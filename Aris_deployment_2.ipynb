{
 "cells": [
  {
   "cell_type": "code",
   "execution_count": 1,
   "metadata": {
    "collapsed": true
   },
   "outputs": [],
   "source": [
    "%matplotlib inline\n",
    "\n",
    "import feather\n",
    "import numpy\n",
    "import pandas as pd\n",
    "import matplotlib.pyplot as plt\n",
    "from pandas.tools.plotting import scatter_matrix\n",
    "\n",
    "\n",
    "from string import ascii_letters\n",
    "import numpy as np\n",
    "import pandas as pd\n",
    "import seaborn as sns\n",
    "import matplotlib.pyplot as plt\n",
    "\n",
    "\n",
    "from sklearn.linear_model import LinearRegression\n",
    "import time\n",
    "from sklearn.metrics import mean_squared_error, r2_score\n",
    "import statsmodels.formula.api as smf"
   ]
  },
  {
   "cell_type": "code",
   "execution_count": 2,
   "metadata": {},
   "outputs": [
    {
     "name": "stdout",
     "output_type": "stream",
     "text": [
      "The last year dataframe has 107 users.\n",
      "(513714, 75)\n"
     ]
    }
   ],
   "source": [
    "import pickle\n",
    "\n",
    "with open ('/home/aris/Desktop/image_survey_metrics.pickle', 'rb') as f:\n",
    "    image_survey_metrics = pickle.load(f)\n",
    "    \n",
    "print 'The last year dataframe has '+ str(len(image_survey_metrics['user_id'].unique()))+' users.'\n",
    "print image_survey_metrics.shape\n"
   ]
  },
  {
   "cell_type": "code",
   "execution_count": 3,
   "metadata": {},
   "outputs": [
    {
     "data": {
      "text/html": [
       "<div>\n",
       "<style>\n",
       "    .dataframe thead tr:only-child th {\n",
       "        text-align: right;\n",
       "    }\n",
       "\n",
       "    .dataframe thead th {\n",
       "        text-align: left;\n",
       "    }\n",
       "\n",
       "    .dataframe tbody tr th {\n",
       "        vertical-align: top;\n",
       "    }\n",
       "</style>\n",
       "<table border=\"1\" class=\"dataframe\">\n",
       "  <thead>\n",
       "    <tr style=\"text-align: right;\">\n",
       "      <th></th>\n",
       "      <th>user_id</th>\n",
       "      <th>PERMA</th>\n",
       "    </tr>\n",
       "  </thead>\n",
       "  <tbody>\n",
       "    <tr>\n",
       "      <th>0</th>\n",
       "      <td>53918317.0</td>\n",
       "      <td>5.0</td>\n",
       "    </tr>\n",
       "    <tr>\n",
       "      <th>1</th>\n",
       "      <td>53918317.0</td>\n",
       "      <td>5.0</td>\n",
       "    </tr>\n",
       "    <tr>\n",
       "      <th>2</th>\n",
       "      <td>53918317.0</td>\n",
       "      <td>5.0</td>\n",
       "    </tr>\n",
       "    <tr>\n",
       "      <th>3</th>\n",
       "      <td>53918317.0</td>\n",
       "      <td>5.0</td>\n",
       "    </tr>\n",
       "    <tr>\n",
       "      <th>4</th>\n",
       "      <td>53918317.0</td>\n",
       "      <td>5.0</td>\n",
       "    </tr>\n",
       "  </tbody>\n",
       "</table>\n",
       "</div>"
      ],
      "text/plain": [
       "      user_id  PERMA\n",
       "0  53918317.0    5.0\n",
       "1  53918317.0    5.0\n",
       "2  53918317.0    5.0\n",
       "3  53918317.0    5.0\n",
       "4  53918317.0    5.0"
      ]
     },
     "execution_count": 3,
     "metadata": {},
     "output_type": "execute_result"
    }
   ],
   "source": [
    "hist_perma = image_survey_metrics[['user_id','PERMA']]\n",
    "hist_perma.head()\n",
    "\n"
   ]
  },
  {
   "cell_type": "code",
   "execution_count": 5,
   "metadata": {},
   "outputs": [
    {
     "name": "stdout",
     "output_type": "stream",
     "text": [
      "(107, 1)\n"
     ]
    },
    {
     "data": {
      "text/html": [
       "<div>\n",
       "<style>\n",
       "    .dataframe thead tr:only-child th {\n",
       "        text-align: right;\n",
       "    }\n",
       "\n",
       "    .dataframe thead th {\n",
       "        text-align: left;\n",
       "    }\n",
       "\n",
       "    .dataframe tbody tr th {\n",
       "        vertical-align: top;\n",
       "    }\n",
       "</style>\n",
       "<table border=\"1\" class=\"dataframe\">\n",
       "  <thead>\n",
       "    <tr style=\"text-align: right;\">\n",
       "      <th></th>\n",
       "      <th>PERMA</th>\n",
       "    </tr>\n",
       "    <tr>\n",
       "      <th>user_id</th>\n",
       "      <th></th>\n",
       "    </tr>\n",
       "  </thead>\n",
       "  <tbody>\n",
       "    <tr>\n",
       "      <th>1619510.0</th>\n",
       "      <td>4.181818</td>\n",
       "    </tr>\n",
       "    <tr>\n",
       "      <th>2829661.0</th>\n",
       "      <td>7.454545</td>\n",
       "    </tr>\n",
       "    <tr>\n",
       "      <th>3069744.0</th>\n",
       "      <td>5.454545</td>\n",
       "    </tr>\n",
       "    <tr>\n",
       "      <th>3988856.0</th>\n",
       "      <td>7.818182</td>\n",
       "    </tr>\n",
       "    <tr>\n",
       "      <th>6734387.0</th>\n",
       "      <td>6.181818</td>\n",
       "    </tr>\n",
       "  </tbody>\n",
       "</table>\n",
       "</div>"
      ],
      "text/plain": [
       "              PERMA\n",
       "user_id            \n",
       "1619510.0  4.181818\n",
       "2829661.0  7.454545\n",
       "3069744.0  5.454545\n",
       "3988856.0  7.818182\n",
       "6734387.0  6.181818"
      ]
     },
     "execution_count": 5,
     "metadata": {},
     "output_type": "execute_result"
    }
   ],
   "source": [
    "Perma_user = hist_perma.groupby('user_id').max()\n",
    "print Perma_user.shape\n",
    "Perma_user.head()"
   ]
  },
  {
   "cell_type": "code",
   "execution_count": 8,
   "metadata": {},
   "outputs": [
    {
     "data": {
      "text/plain": [
       "<matplotlib.axes._subplots.AxesSubplot at 0x7efe2e8c0490>"
      ]
     },
     "execution_count": 8,
     "metadata": {},
     "output_type": "execute_result"
    },
    {
     "data": {
      "image/png": "[encoded data removed]",
      "text/plain": [
       "<matplotlib.figure.Figure at 0x7efe6866d110>"
      ]
     },
     "metadata": {},
     "output_type": "display_data"
    }
   ],
   "source": [
    "sns.distplot(Perma_user.PERMA, rug=True)smf"
   ]
  },
  {
   "cell_type": "code",
   "execution_count": 11,
   "metadata": {},
   "outputs": [
    {
     "data": {
      "text/plain": [
       "count    107.000000\n",
       "mean       6.482583\n",
       "std        1.032409\n",
       "min        3.590909\n",
       "25%        5.954545\n",
       "50%        6.590909\n",
       "75%        7.181818\n",
       "max        8.772727\n",
       "Name: PERMA, dtype: float64"
      ]
     },
     "execution_count": 11,
     "metadata": {},
     "output_type": "execute_result"
    }
   ],
   "source": [
    "Perma_user.PERMA.describe()"
   ]
  },
  {
   "cell_type": "code",
   "execution_count": 3,
   "metadata": {
    "collapsed": true
   },
   "outputs": [],
   "source": [
    "#image_survey_metrics.end_q.sort_values()"
   ]
  },
  {
   "cell_type": "code",
   "execution_count": 4,
   "metadata": {
    "scrolled": true
   },
   "outputs": [
    {
     "data": {
      "text/plain": [
       "Index([u'image_id', u'image_height', u'image_width', u'image_filter',\n",
       "       u'image_posted_time', u'data_memorability', u'user_id',\n",
       "       u'user_followed_by', u'user_follows', u'user_posted_photos',\n",
       "       u'anp_label', u'anp_sentiment', u'emotion_score', u'emotion_label',\n",
       "       u'data_amz_label', u'data_amz_label_confidence', u'face_id',\n",
       "       u'face_gender', u'face_gender_confidence', u'face_age_range_high',\n",
       "       u'face_age_range_low', u'face_sunglasses', u'face_beard',\n",
       "       u'face_beard_confidence', u'face_mustache', u'face_mustache_confidence',\n",
       "       u'face_smile', u'face_smile_confidence', u'eyeglasses',\n",
       "       u'eyeglasses_confidence', u'face_emo', u'emo_confidence', u'id',\n",
       "       u'gender', u'born', u'education', u'employed', u'income', u'A_2',\n",
       "       u'N_1', u'P_1', u'E_1', u'A_1', u'H_1', u'M_1', u'R_1', u'M_2', u'E_2',\n",
       "       u'LON', u'H_2', u'P_2', u'N_2', u'A_3', u'N_3', u'E_3', u'H_3', u'R_2',\n",
       "       u'M_3', u'R_3', u'P_3', u'HAP', u'insta_user_id', u'start_q', u'end_q',\n",
       "       u'P', u'E', u'R', u'M', u'A', u'PERMA', u'N_EMO', u'P_EMO',\n",
       "       u'imagecount', u'comment_count', u'like_count'],\n",
       "      dtype='object')"
      ]
     },
     "execution_count": 4,
     "metadata": {},
     "output_type": "execute_result"
    }
   ],
   "source": [
    "#'start_q','end_q'\n",
    "image_survey_metrics.columns"
   ]
  },
  {
   "cell_type": "code",
   "execution_count": 5,
   "metadata": {},
   "outputs": [
    {
     "data": {
      "text/plain": [
       "0   2016-10-31 01:54:50\n",
       "1   2016-10-31 01:54:50\n",
       "2   2016-10-31 01:54:50\n",
       "3   2016-10-31 01:54:50\n",
       "4   2016-10-31 01:54:50\n",
       "Name: image_posted_time, dtype: datetime64[ns]"
      ]
     },
     "execution_count": 5,
     "metadata": {},
     "output_type": "execute_result"
    }
   ],
   "source": [
    "image_survey_metrics['image_posted_time'].head()"
   ]
  },
  {
   "cell_type": "code",
   "execution_count": 6,
   "metadata": {},
   "outputs": [
    {
     "data": {
      "text/html": [
       "<div>\n",
       "<style>\n",
       "    .dataframe thead tr:only-child th {\n",
       "        text-align: right;\n",
       "    }\n",
       "\n",
       "    .dataframe thead th {\n",
       "        text-align: left;\n",
       "    }\n",
       "\n",
       "    .dataframe tbody tr th {\n",
       "        vertical-align: top;\n",
       "    }\n",
       "</style>\n",
       "<table border=\"1\" class=\"dataframe\">\n",
       "  <thead>\n",
       "    <tr style=\"text-align: right;\">\n",
       "      <th></th>\n",
       "      <th>image_id</th>\n",
       "      <th>image_height</th>\n",
       "      <th>image_width</th>\n",
       "      <th>image_filter</th>\n",
       "      <th>image_posted_time</th>\n",
       "      <th>data_memorability</th>\n",
       "      <th>user_id</th>\n",
       "      <th>user_followed_by</th>\n",
       "      <th>user_follows</th>\n",
       "      <th>user_posted_photos</th>\n",
       "      <th>...</th>\n",
       "      <th>E</th>\n",
       "      <th>R</th>\n",
       "      <th>M</th>\n",
       "      <th>A</th>\n",
       "      <th>PERMA</th>\n",
       "      <th>N_EMO</th>\n",
       "      <th>P_EMO</th>\n",
       "      <th>imagecount</th>\n",
       "      <th>comment_count</th>\n",
       "      <th>like_count</th>\n",
       "    </tr>\n",
       "  </thead>\n",
       "  <tbody>\n",
       "    <tr>\n",
       "      <th>0</th>\n",
       "      <td>1372870097060159201_53918317</td>\n",
       "      <td>640.0</td>\n",
       "      <td>640.0</td>\n",
       "      <td>Normal</td>\n",
       "      <td>2016-10-31 01:54:50</td>\n",
       "      <td>0.746274</td>\n",
       "      <td>53918317.0</td>\n",
       "      <td>100.0</td>\n",
       "      <td>174.0</td>\n",
       "      <td>105.0</td>\n",
       "      <td>...</td>\n",
       "      <td>7.0</td>\n",
       "      <td>8.0</td>\n",
       "      <td>5.0</td>\n",
       "      <td>5.0</td>\n",
       "      <td>5.0</td>\n",
       "      <td>8.0</td>\n",
       "      <td>1</td>\n",
       "      <td>105.0</td>\n",
       "      <td>0.0</td>\n",
       "      <td>3.0</td>\n",
       "    </tr>\n",
       "    <tr>\n",
       "      <th>1</th>\n",
       "      <td>1372870097060159201_53918317</td>\n",
       "      <td>640.0</td>\n",
       "      <td>640.0</td>\n",
       "      <td>Normal</td>\n",
       "      <td>2016-10-31 01:54:50</td>\n",
       "      <td>0.746274</td>\n",
       "      <td>53918317.0</td>\n",
       "      <td>100.0</td>\n",
       "      <td>174.0</td>\n",
       "      <td>105.0</td>\n",
       "      <td>...</td>\n",
       "      <td>7.0</td>\n",
       "      <td>8.0</td>\n",
       "      <td>5.0</td>\n",
       "      <td>5.0</td>\n",
       "      <td>5.0</td>\n",
       "      <td>8.0</td>\n",
       "      <td>1</td>\n",
       "      <td>105.0</td>\n",
       "      <td>0.0</td>\n",
       "      <td>3.0</td>\n",
       "    </tr>\n",
       "    <tr>\n",
       "      <th>2</th>\n",
       "      <td>1372870097060159201_53918317</td>\n",
       "      <td>640.0</td>\n",
       "      <td>640.0</td>\n",
       "      <td>Normal</td>\n",
       "      <td>2016-10-31 01:54:50</td>\n",
       "      <td>0.746274</td>\n",
       "      <td>53918317.0</td>\n",
       "      <td>100.0</td>\n",
       "      <td>174.0</td>\n",
       "      <td>105.0</td>\n",
       "      <td>...</td>\n",
       "      <td>7.0</td>\n",
       "      <td>8.0</td>\n",
       "      <td>5.0</td>\n",
       "      <td>5.0</td>\n",
       "      <td>5.0</td>\n",
       "      <td>8.0</td>\n",
       "      <td>1</td>\n",
       "      <td>105.0</td>\n",
       "      <td>0.0</td>\n",
       "      <td>3.0</td>\n",
       "    </tr>\n",
       "    <tr>\n",
       "      <th>3</th>\n",
       "      <td>1372870097060159201_53918317</td>\n",
       "      <td>640.0</td>\n",
       "      <td>640.0</td>\n",
       "      <td>Normal</td>\n",
       "      <td>2016-10-31 01:54:50</td>\n",
       "      <td>0.746274</td>\n",
       "      <td>53918317.0</td>\n",
       "      <td>100.0</td>\n",
       "      <td>174.0</td>\n",
       "      <td>105.0</td>\n",
       "      <td>...</td>\n",
       "      <td>7.0</td>\n",
       "      <td>8.0</td>\n",
       "      <td>5.0</td>\n",
       "      <td>5.0</td>\n",
       "      <td>5.0</td>\n",
       "      <td>8.0</td>\n",
       "      <td>1</td>\n",
       "      <td>105.0</td>\n",
       "      <td>0.0</td>\n",
       "      <td>3.0</td>\n",
       "    </tr>\n",
       "    <tr>\n",
       "      <th>4</th>\n",
       "      <td>1372870097060159201_53918317</td>\n",
       "      <td>640.0</td>\n",
       "      <td>640.0</td>\n",
       "      <td>Normal</td>\n",
       "      <td>2016-10-31 01:54:50</td>\n",
       "      <td>0.746274</td>\n",
       "      <td>53918317.0</td>\n",
       "      <td>100.0</td>\n",
       "      <td>174.0</td>\n",
       "      <td>105.0</td>\n",
       "      <td>...</td>\n",
       "      <td>7.0</td>\n",
       "      <td>8.0</td>\n",
       "      <td>5.0</td>\n",
       "      <td>5.0</td>\n",
       "      <td>5.0</td>\n",
       "      <td>8.0</td>\n",
       "      <td>1</td>\n",
       "      <td>105.0</td>\n",
       "      <td>0.0</td>\n",
       "      <td>3.0</td>\n",
       "    </tr>\n",
       "  </tbody>\n",
       "</table>\n",
       "<p>5 rows × 75 columns</p>\n",
       "</div>"
      ],
      "text/plain": [
       "                       image_id  image_height  image_width image_filter  \\\n",
       "0  1372870097060159201_53918317         640.0        640.0       Normal   \n",
       "1  1372870097060159201_53918317         640.0        640.0       Normal   \n",
       "2  1372870097060159201_53918317         640.0        640.0       Normal   \n",
       "3  1372870097060159201_53918317         640.0        640.0       Normal   \n",
       "4  1372870097060159201_53918317         640.0        640.0       Normal   \n",
       "\n",
       "    image_posted_time  data_memorability     user_id  user_followed_by  \\\n",
       "0 2016-10-31 01:54:50           0.746274  53918317.0             100.0   \n",
       "1 2016-10-31 01:54:50           0.746274  53918317.0             100.0   \n",
       "2 2016-10-31 01:54:50           0.746274  53918317.0             100.0   \n",
       "3 2016-10-31 01:54:50           0.746274  53918317.0             100.0   \n",
       "4 2016-10-31 01:54:50           0.746274  53918317.0             100.0   \n",
       "\n",
       "   user_follows  user_posted_photos     ...        E    R    M    A PERMA  \\\n",
       "0         174.0               105.0     ...      7.0  8.0  5.0  5.0   5.0   \n",
       "1         174.0               105.0     ...      7.0  8.0  5.0  5.0   5.0   \n",
       "2         174.0               105.0     ...      7.0  8.0  5.0  5.0   5.0   \n",
       "3         174.0               105.0     ...      7.0  8.0  5.0  5.0   5.0   \n",
       "4         174.0               105.0     ...      7.0  8.0  5.0  5.0   5.0   \n",
       "\n",
       "   N_EMO  P_EMO imagecount  comment_count  like_count  \n",
       "0    8.0      1      105.0            0.0         3.0  \n",
       "1    8.0      1      105.0            0.0         3.0  \n",
       "2    8.0      1      105.0            0.0         3.0  \n",
       "3    8.0      1      105.0            0.0         3.0  \n",
       "4    8.0      1      105.0            0.0         3.0  \n",
       "\n",
       "[5 rows x 75 columns]"
      ]
     },
     "execution_count": 6,
     "metadata": {},
     "output_type": "execute_result"
    }
   ],
   "source": [
    "image_survey_metrics.head()"
   ]
  },
  {
   "cell_type": "code",
   "execution_count": 7,
   "metadata": {},
   "outputs": [
    {
     "name": "stdout",
     "output_type": "stream",
     "text": [
      "The last year dataframe has 107 users.\n",
      "(459570, 75)\n"
     ]
    }
   ],
   "source": [
    "image_survey_metrics.drop_duplicates(inplace=True)\n",
    "print 'The last year dataframe has '+ str(len(image_survey_metrics['user_id'].unique()))+' users.'\n",
    "print image_survey_metrics.shape"
   ]
  },
  {
   "cell_type": "code",
   "execution_count": 8,
   "metadata": {
    "collapsed": true
   },
   "outputs": [],
   "source": [
    "imgid_uid = image_survey_metrics[['user_id','image_id']].drop_duplicates() #set a matrix\n",
    "get_uid_from_imgid = imgid_uid.set_index('image_id').to_dict()['user_id'] # img_id -> uid\n",
    "get_imgids_from_uid = {k: list(v) for k,v in imgid_uid.groupby('user_id')[\"image_id\"]}\n"
   ]
  },
  {
   "cell_type": "code",
   "execution_count": null,
   "metadata": {
    "collapsed": true
   },
   "outputs": [],
   "source": []
  },
  {
   "cell_type": "code",
   "execution_count": 9,
   "metadata": {},
   "outputs": [
    {
     "data": {
      "text/plain": [
       "Index([u'image_id', u'image_height', u'image_width', u'image_filter',\n",
       "       u'image_posted_time', u'data_memorability', u'user_id',\n",
       "       u'user_followed_by', u'user_follows', u'user_posted_photos'],\n",
       "      dtype='object')"
      ]
     },
     "execution_count": 9,
     "metadata": {},
     "output_type": "execute_result"
    }
   ],
   "source": [
    "image_df = feather.read_dataframe('data_science_case/image_data.feather')\n",
    "#Drop unnecessary columns in image_df dataframework\n",
    "image_df.head()\n",
    "drop = ['image_link','image_url','image_posted_time_unix','user_full_name',\\\n",
    "        'user_name','user_website','user_profile_pic','user_bio']\n",
    "\n",
    "image_df =  image_df.drop(drop,axis=1)\n",
    "#image_df.head()\n",
    "image_df.columns"
   ]
  },
  {
   "cell_type": "code",
   "execution_count": 10,
   "metadata": {
    "collapsed": true
   },
   "outputs": [],
   "source": [
    "#load ANPs from Aris pickle df\n",
    "a=list(image_df.columns)\n",
    "#TOTAL PERMA SCORE\n",
    "a.append('PERMA')\n",
    "a.append('start_q')\n",
    "a.append('end_q')\n",
    "\n",
    "#TOTAL POSITIVE SCORE\n",
    "#a.append('P_EMO')\n",
    "\n",
    "#TOTAL NEGATIVE SCORE\n",
    "#a.append('N_EMO')\n",
    "\n",
    "#IMAGE FEATURES\n",
    "\n",
    "image_df = image_survey_metrics[a].drop_duplicates().set_index(\"image_id\")\n",
    "del image_df.index.name"
   ]
  },
  {
   "cell_type": "code",
   "execution_count": 11,
   "metadata": {},
   "outputs": [
    {
     "name": "stdout",
     "output_type": "stream",
     "text": [
      "(2776, 12)\n"
     ]
    },
    {
     "data": {
      "text/html": [
       "<div>\n",
       "<style>\n",
       "    .dataframe thead tr:only-child th {\n",
       "        text-align: right;\n",
       "    }\n",
       "\n",
       "    .dataframe thead th {\n",
       "        text-align: left;\n",
       "    }\n",
       "\n",
       "    .dataframe tbody tr th {\n",
       "        vertical-align: top;\n",
       "    }\n",
       "</style>\n",
       "<table border=\"1\" class=\"dataframe\">\n",
       "  <thead>\n",
       "    <tr style=\"text-align: right;\">\n",
       "      <th></th>\n",
       "      <th>image_height</th>\n",
       "      <th>image_width</th>\n",
       "      <th>image_filter</th>\n",
       "      <th>image_posted_time</th>\n",
       "      <th>data_memorability</th>\n",
       "      <th>user_id</th>\n",
       "      <th>user_followed_by</th>\n",
       "      <th>user_follows</th>\n",
       "      <th>user_posted_photos</th>\n",
       "      <th>PERMA</th>\n",
       "      <th>start_q</th>\n",
       "      <th>end_q</th>\n",
       "    </tr>\n",
       "  </thead>\n",
       "  <tbody>\n",
       "    <tr>\n",
       "      <th>1372870097060159201_53918317</th>\n",
       "      <td>640.0</td>\n",
       "      <td>640.0</td>\n",
       "      <td>Normal</td>\n",
       "      <td>2016-10-31 01:54:50</td>\n",
       "      <td>0.746274</td>\n",
       "      <td>53918317.0</td>\n",
       "      <td>100.0</td>\n",
       "      <td>174.0</td>\n",
       "      <td>105.0</td>\n",
       "      <td>5.0</td>\n",
       "      <td>2016-12-05 14:05:13</td>\n",
       "      <td>2016-12-05 14:06:38</td>\n",
       "    </tr>\n",
       "    <tr>\n",
       "      <th>1376341630843643565_53918317</th>\n",
       "      <td>640.0</td>\n",
       "      <td>640.0</td>\n",
       "      <td>Normal</td>\n",
       "      <td>2016-11-04 20:52:09</td>\n",
       "      <td>0.831631</td>\n",
       "      <td>53918317.0</td>\n",
       "      <td>100.0</td>\n",
       "      <td>174.0</td>\n",
       "      <td>105.0</td>\n",
       "      <td>5.0</td>\n",
       "      <td>2016-12-05 14:05:13</td>\n",
       "      <td>2016-12-05 14:06:38</td>\n",
       "    </tr>\n",
       "    <tr>\n",
       "      <th>1373407612938533591_53918317</th>\n",
       "      <td>640.0</td>\n",
       "      <td>640.0</td>\n",
       "      <td>Moon</td>\n",
       "      <td>2016-10-31 19:42:47</td>\n",
       "      <td>0.907868</td>\n",
       "      <td>53918317.0</td>\n",
       "      <td>100.0</td>\n",
       "      <td>174.0</td>\n",
       "      <td>105.0</td>\n",
       "      <td>5.0</td>\n",
       "      <td>2016-12-05 14:05:13</td>\n",
       "      <td>2016-12-05 14:06:38</td>\n",
       "    </tr>\n",
       "    <tr>\n",
       "      <th>1372871586851626025_53918317</th>\n",
       "      <td>640.0</td>\n",
       "      <td>640.0</td>\n",
       "      <td>Mayfair</td>\n",
       "      <td>2016-10-31 01:57:48</td>\n",
       "      <td>0.853218</td>\n",
       "      <td>53918317.0</td>\n",
       "      <td>100.0</td>\n",
       "      <td>174.0</td>\n",
       "      <td>105.0</td>\n",
       "      <td>5.0</td>\n",
       "      <td>2016-12-05 14:05:13</td>\n",
       "      <td>2016-12-05 14:06:38</td>\n",
       "    </tr>\n",
       "    <tr>\n",
       "      <th>1376342482815974929_53918317</th>\n",
       "      <td>640.0</td>\n",
       "      <td>640.0</td>\n",
       "      <td>Normal</td>\n",
       "      <td>2016-11-04 20:53:51</td>\n",
       "      <td>0.801783</td>\n",
       "      <td>53918317.0</td>\n",
       "      <td>100.0</td>\n",
       "      <td>174.0</td>\n",
       "      <td>105.0</td>\n",
       "      <td>5.0</td>\n",
       "      <td>2016-12-05 14:05:13</td>\n",
       "      <td>2016-12-05 14:06:38</td>\n",
       "    </tr>\n",
       "  </tbody>\n",
       "</table>\n",
       "</div>"
      ],
      "text/plain": [
       "                              image_height  image_width image_filter  \\\n",
       "1372870097060159201_53918317         640.0        640.0       Normal   \n",
       "1376341630843643565_53918317         640.0        640.0       Normal   \n",
       "1373407612938533591_53918317         640.0        640.0         Moon   \n",
       "1372871586851626025_53918317         640.0        640.0      Mayfair   \n",
       "1376342482815974929_53918317         640.0        640.0       Normal   \n",
       "\n",
       "                               image_posted_time  data_memorability  \\\n",
       "1372870097060159201_53918317 2016-10-31 01:54:50           0.746274   \n",
       "1376341630843643565_53918317 2016-11-04 20:52:09           0.831631   \n",
       "1373407612938533591_53918317 2016-10-31 19:42:47           0.907868   \n",
       "1372871586851626025_53918317 2016-10-31 01:57:48           0.853218   \n",
       "1376342482815974929_53918317 2016-11-04 20:53:51           0.801783   \n",
       "\n",
       "                                 user_id  user_followed_by  user_follows  \\\n",
       "1372870097060159201_53918317  53918317.0             100.0         174.0   \n",
       "1376341630843643565_53918317  53918317.0             100.0         174.0   \n",
       "1373407612938533591_53918317  53918317.0             100.0         174.0   \n",
       "1372871586851626025_53918317  53918317.0             100.0         174.0   \n",
       "1376342482815974929_53918317  53918317.0             100.0         174.0   \n",
       "\n",
       "                              user_posted_photos  PERMA             start_q  \\\n",
       "1372870097060159201_53918317               105.0    5.0 2016-12-05 14:05:13   \n",
       "1376341630843643565_53918317               105.0    5.0 2016-12-05 14:05:13   \n",
       "1373407612938533591_53918317               105.0    5.0 2016-12-05 14:05:13   \n",
       "1372871586851626025_53918317               105.0    5.0 2016-12-05 14:05:13   \n",
       "1376342482815974929_53918317               105.0    5.0 2016-12-05 14:05:13   \n",
       "\n",
       "                                           end_q  \n",
       "1372870097060159201_53918317 2016-12-05 14:06:38  \n",
       "1376341630843643565_53918317 2016-12-05 14:06:38  \n",
       "1373407612938533591_53918317 2016-12-05 14:06:38  \n",
       "1372871586851626025_53918317 2016-12-05 14:06:38  \n",
       "1376342482815974929_53918317 2016-12-05 14:06:38  "
      ]
     },
     "execution_count": 11,
     "metadata": {},
     "output_type": "execute_result"
    }
   ],
   "source": [
    "print image_df.shape\n",
    "image_df.head()"
   ]
  },
  {
   "cell_type": "code",
   "execution_count": 12,
   "metadata": {},
   "outputs": [
    {
     "data": {
      "text/plain": [
       "(107, 7)"
      ]
     },
     "execution_count": 12,
     "metadata": {},
     "output_type": "execute_result"
    }
   ],
   "source": [
    "test = image_df.groupby('user_id').mean()\n",
    "test.shape"
   ]
  },
  {
   "cell_type": "code",
   "execution_count": 13,
   "metadata": {},
   "outputs": [
    {
     "data": {
      "image/png": "[encoded data removed]",
      "text/plain": [
       "<matplotlib.figure.Figure at 0x7f44e790af50>"
      ]
     },
     "metadata": {},
     "output_type": "display_data"
    }
   ],
   "source": [
    "import seaborn as sns\n",
    "\n",
    "g = sns.pairplot(image_df, size=5,vars=[\"data_memorability\",\"PERMA\"])"
   ]
  },
  {
   "cell_type": "code",
   "execution_count": 14,
   "metadata": {},
   "outputs": [
    {
     "data": {
      "image/png": "[encoded data removed]",
      "text/plain": [
       "<matplotlib.figure.Figure at 0x7f44ebc15510>"
      ]
     },
     "metadata": {},
     "output_type": "display_data"
    }
   ],
   "source": [
    "g = sns.pairplot(image_df, size=5,vars=[\"user_follows\",\"PERMA\"])"
   ]
  },
  {
   "cell_type": "code",
   "execution_count": 15,
   "metadata": {},
   "outputs": [
    {
     "data": {
      "text/plain": [
       "array([  6.19868570e+08,   2.54694430e+07,   2.27027527e+09,\n",
       "         2.09227639e+09,   3.80758991e+09,   2.49861555e+08,\n",
       "         2.03264207e+09,   4.23918871e+09,   3.08378280e+07,\n",
       "         1.97668213e+09])"
      ]
     },
     "execution_count": 15,
     "metadata": {},
     "output_type": "execute_result"
    }
   ],
   "source": [
    "image_df[image_df.user_follows>1000]['user_id'].unique()"
   ]
  },
  {
   "cell_type": "code",
   "execution_count": 16,
   "metadata": {},
   "outputs": [
    {
     "data": {
      "text/plain": [
       "<matplotlib.axes._subplots.AxesSubplot at 0x7f44eaf8b9d0>"
      ]
     },
     "execution_count": 16,
     "metadata": {},
     "output_type": "execute_result"
    },
    {
     "data": {
      "image/png": "[encoded data removed]",
      "text/plain": [
       "<matplotlib.figure.Figure at 0x7f44eb07bdd0>"
      ]
     },
     "metadata": {},
     "output_type": "display_data"
    }
   ],
   "source": [
    "#,fit_reg=False\n",
    "sns.regplot('user_follows','PERMA',data=image_df[image_df.user_follows<1000])"
   ]
  },
  {
   "cell_type": "code",
   "execution_count": 17,
   "metadata": {},
   "outputs": [
    {
     "name": "stdout",
     "output_type": "stream",
     "text": [
      "107\n",
      "97\n"
     ]
    }
   ],
   "source": [
    "a = image_df[image_df.user_follows<1000]\n",
    "print len(image_df.user_id.unique())\n",
    "print len(a.user_id.unique())"
   ]
  },
  {
   "cell_type": "code",
   "execution_count": null,
   "metadata": {
    "collapsed": true
   },
   "outputs": [],
   "source": []
  },
  {
   "cell_type": "code",
   "execution_count": 18,
   "metadata": {},
   "outputs": [
    {
     "data": {
      "text/plain": [
       "<matplotlib.axes._subplots.AxesSubplot at 0x7f44ebc42610>"
      ]
     },
     "execution_count": 18,
     "metadata": {},
     "output_type": "execute_result"
    },
    {
     "data": {
      "image/png": "[encoded data removed]",
      "text/plain": [
       "<matplotlib.figure.Figure at 0x7f44eb203e90>"
      ]
     },
     "metadata": {},
     "output_type": "display_data"
    }
   ],
   "source": [
    "#g = sns.pairplot(image_df, size=5,vars=[\"user_followed_by\",\"PERMA\"])\n",
    "#,fit_reg=False\n",
    "sns.regplot('user_followed_by','PERMA',data=image_df[image_df.user_followed_by<1500])\n",
    "#.regplot('user_followed_by','PERMA',data=image_df[image_df.user_follows<1000])"
   ]
  },
  {
   "cell_type": "code",
   "execution_count": 19,
   "metadata": {},
   "outputs": [
    {
     "name": "stdout",
     "output_type": "stream",
     "text": [
      "107\n",
      "101\n"
     ]
    }
   ],
   "source": [
    "a = image_df[image_df.user_followed_by<1500]\n",
    "print len(image_df.user_id.unique())\n",
    "print len(a.user_id.unique())"
   ]
  },
  {
   "cell_type": "code",
   "execution_count": 20,
   "metadata": {},
   "outputs": [
    {
     "name": "stdout",
     "output_type": "stream",
     "text": [
      "[3807589911.0, 2062266819.0, 2032642067.0, 275510681.0, 30837828.0, 1976682131.0]\n"
     ]
    }
   ],
   "source": [
    "outliers = list(image_df[image_df.user_followed_by>1500]['user_id'].unique())\n",
    "print outliers"
   ]
  },
  {
   "cell_type": "code",
   "execution_count": 21,
   "metadata": {},
   "outputs": [
    {
     "data": {
      "text/plain": [
       "array([  3.80758991e+09,   2.06226682e+09,   2.03264207e+09,\n",
       "         2.75510681e+08,   3.08378280e+07,   1.97668213e+09])"
      ]
     },
     "execution_count": 21,
     "metadata": {},
     "output_type": "execute_result"
    }
   ],
   "source": [
    "image_df[image_df.user_followed_by>1500]['user_id'].unique()"
   ]
  },
  {
   "cell_type": "code",
   "execution_count": 22,
   "metadata": {},
   "outputs": [
    {
     "data": {
      "text/plain": [
       "<matplotlib.axes._subplots.AxesSubplot at 0x7f44eae9d450>"
      ]
     },
     "execution_count": 22,
     "metadata": {},
     "output_type": "execute_result"
    },
    {
     "data": {
      "image/png": "[encoded data removed]",
      "text/plain": [
       "<matplotlib.figure.Figure at 0x7f44eae1e790>"
      ]
     },
     "metadata": {},
     "output_type": "display_data"
    }
   ],
   "source": [
    "sns.regplot('user_follows','PERMA',data=image_df,fit_reg=False,)"
   ]
  },
  {
   "cell_type": "code",
   "execution_count": 23,
   "metadata": {},
   "outputs": [
    {
     "data": {
      "image/png": "[encoded data removed]",
      "text/plain": [
       "<matplotlib.figure.Figure at 0x7f44ead075d0>"
      ]
     },
     "metadata": {},
     "output_type": "display_data"
    }
   ],
   "source": [
    "g = sns.pairplot(image_df, size=5,vars=[\"user_followed_by\",\"PERMA\"])"
   ]
  },
  {
   "cell_type": "code",
   "execution_count": null,
   "metadata": {
    "collapsed": true
   },
   "outputs": [],
   "source": []
  },
  {
   "cell_type": "markdown",
   "metadata": {},
   "source": [
    "# Correlation heatmap"
   ]
  },
  {
   "cell_type": "code",
   "execution_count": 24,
   "metadata": {},
   "outputs": [
    {
     "data": {
      "text/plain": [
       "<matplotlib.axes._subplots.AxesSubplot at 0x7f44eb2c6150>"
      ]
     },
     "execution_count": 24,
     "metadata": {},
     "output_type": "execute_result"
    },
    {
     "data": {
      "image/png": "[encoded data removed]",
      "text/plain": [
       "<matplotlib.figure.Figure at 0x7f44e7d20fd0>"
      ]
     },
     "metadata": {},
     "output_type": "display_data"
    }
   ],
   "source": [
    "#correlation matrix\n",
    "correlation_matrix = image_df.corr()\n",
    "\n",
    "#PLOT THE CORRELATIONS TO Seaborn\n",
    "\n",
    "mask = np.zeros_like(correlation_matrix, dtype=np.bool)\n",
    "mask[np.triu_indices_from(mask)] = True\n",
    "\n",
    "# Set up the matplotlib figure|\n",
    "f, ax = plt.subplots(figsize=(11, 9))\n",
    "\n",
    "# Generate a custom diverging colormap\n",
    "cmap = sns.diverging_palette(220, 10, as_cmap=True)\n",
    "\n",
    "# Draw the heatmap with the mask and correct aspect ratio\n",
    "sns.heatmap(correlation_matrix, mask=mask, cmap=cmap, vmax=.3, center=0,\n",
    "            square=True, linewidths=.5, cbar_kws={\"shrink\": .5})"
   ]
  },
  {
   "cell_type": "code",
   "execution_count": null,
   "metadata": {
    "collapsed": true
   },
   "outputs": [],
   "source": []
  },
  {
   "cell_type": "markdown",
   "metadata": {},
   "source": [
    "# Analysis"
   ]
  },
  {
   "cell_type": "code",
   "execution_count": 25,
   "metadata": {},
   "outputs": [
    {
     "data": {
      "text/html": [
       "<div>\n",
       "<style>\n",
       "    .dataframe thead tr:only-child th {\n",
       "        text-align: right;\n",
       "    }\n",
       "\n",
       "    .dataframe thead th {\n",
       "        text-align: left;\n",
       "    }\n",
       "\n",
       "    .dataframe tbody tr th {\n",
       "        vertical-align: top;\n",
       "    }\n",
       "</style>\n",
       "<table border=\"1\" class=\"dataframe\">\n",
       "  <thead>\n",
       "    <tr style=\"text-align: right;\">\n",
       "      <th></th>\n",
       "      <th>Normal</th>\n",
       "      <th>Moon</th>\n",
       "      <th>Mayfair</th>\n",
       "      <th>Lark</th>\n",
       "      <th>Sierra</th>\n",
       "      <th>Rise</th>\n",
       "      <th>Valencia</th>\n",
       "      <th>Nashville</th>\n",
       "      <th>Amaro</th>\n",
       "      <th>Perpetua</th>\n",
       "      <th>...</th>\n",
       "      <th>Brooklyn</th>\n",
       "      <th>Hudson</th>\n",
       "      <th>Inkwell</th>\n",
       "      <th>Ginza</th>\n",
       "      <th>Walden</th>\n",
       "      <th>Earlybird</th>\n",
       "      <th>Sutro</th>\n",
       "      <th>Brannan</th>\n",
       "      <th>Helena</th>\n",
       "      <th>Charmes</th>\n",
       "    </tr>\n",
       "  </thead>\n",
       "  <tbody>\n",
       "    <tr>\n",
       "      <th>1372870097060159201_53918317</th>\n",
       "      <td>1</td>\n",
       "      <td>0</td>\n",
       "      <td>0</td>\n",
       "      <td>0</td>\n",
       "      <td>0</td>\n",
       "      <td>0</td>\n",
       "      <td>0</td>\n",
       "      <td>0</td>\n",
       "      <td>0</td>\n",
       "      <td>0</td>\n",
       "      <td>...</td>\n",
       "      <td>0</td>\n",
       "      <td>0</td>\n",
       "      <td>0</td>\n",
       "      <td>0</td>\n",
       "      <td>0</td>\n",
       "      <td>0</td>\n",
       "      <td>0</td>\n",
       "      <td>0</td>\n",
       "      <td>0</td>\n",
       "      <td>0</td>\n",
       "    </tr>\n",
       "    <tr>\n",
       "      <th>1376341630843643565_53918317</th>\n",
       "      <td>1</td>\n",
       "      <td>0</td>\n",
       "      <td>0</td>\n",
       "      <td>0</td>\n",
       "      <td>0</td>\n",
       "      <td>0</td>\n",
       "      <td>0</td>\n",
       "      <td>0</td>\n",
       "      <td>0</td>\n",
       "      <td>0</td>\n",
       "      <td>...</td>\n",
       "      <td>0</td>\n",
       "      <td>0</td>\n",
       "      <td>0</td>\n",
       "      <td>0</td>\n",
       "      <td>0</td>\n",
       "      <td>0</td>\n",
       "      <td>0</td>\n",
       "      <td>0</td>\n",
       "      <td>0</td>\n",
       "      <td>0</td>\n",
       "    </tr>\n",
       "    <tr>\n",
       "      <th>1373407612938533591_53918317</th>\n",
       "      <td>0</td>\n",
       "      <td>1</td>\n",
       "      <td>0</td>\n",
       "      <td>0</td>\n",
       "      <td>0</td>\n",
       "      <td>0</td>\n",
       "      <td>0</td>\n",
       "      <td>0</td>\n",
       "      <td>0</td>\n",
       "      <td>0</td>\n",
       "      <td>...</td>\n",
       "      <td>0</td>\n",
       "      <td>0</td>\n",
       "      <td>0</td>\n",
       "      <td>0</td>\n",
       "      <td>0</td>\n",
       "      <td>0</td>\n",
       "      <td>0</td>\n",
       "      <td>0</td>\n",
       "      <td>0</td>\n",
       "      <td>0</td>\n",
       "    </tr>\n",
       "    <tr>\n",
       "      <th>1372871586851626025_53918317</th>\n",
       "      <td>0</td>\n",
       "      <td>0</td>\n",
       "      <td>1</td>\n",
       "      <td>0</td>\n",
       "      <td>0</td>\n",
       "      <td>0</td>\n",
       "      <td>0</td>\n",
       "      <td>0</td>\n",
       "      <td>0</td>\n",
       "      <td>0</td>\n",
       "      <td>...</td>\n",
       "      <td>0</td>\n",
       "      <td>0</td>\n",
       "      <td>0</td>\n",
       "      <td>0</td>\n",
       "      <td>0</td>\n",
       "      <td>0</td>\n",
       "      <td>0</td>\n",
       "      <td>0</td>\n",
       "      <td>0</td>\n",
       "      <td>0</td>\n",
       "    </tr>\n",
       "    <tr>\n",
       "      <th>1376342482815974929_53918317</th>\n",
       "      <td>1</td>\n",
       "      <td>0</td>\n",
       "      <td>0</td>\n",
       "      <td>0</td>\n",
       "      <td>0</td>\n",
       "      <td>0</td>\n",
       "      <td>0</td>\n",
       "      <td>0</td>\n",
       "      <td>0</td>\n",
       "      <td>0</td>\n",
       "      <td>...</td>\n",
       "      <td>0</td>\n",
       "      <td>0</td>\n",
       "      <td>0</td>\n",
       "      <td>0</td>\n",
       "      <td>0</td>\n",
       "      <td>0</td>\n",
       "      <td>0</td>\n",
       "      <td>0</td>\n",
       "      <td>0</td>\n",
       "      <td>0</td>\n",
       "    </tr>\n",
       "  </tbody>\n",
       "</table>\n",
       "<p>5 rows × 39 columns</p>\n",
       "</div>"
      ],
      "text/plain": [
       "                              Normal  Moon  Mayfair  Lark  Sierra  Rise  \\\n",
       "1372870097060159201_53918317       1     0        0     0       0     0   \n",
       "1376341630843643565_53918317       1     0        0     0       0     0   \n",
       "1373407612938533591_53918317       0     1        0     0       0     0   \n",
       "1372871586851626025_53918317       0     0        1     0       0     0   \n",
       "1376342482815974929_53918317       1     0        0     0       0     0   \n",
       "\n",
       "                              Valencia  Nashville  Amaro  Perpetua   ...     \\\n",
       "1372870097060159201_53918317         0          0      0         0   ...      \n",
       "1376341630843643565_53918317         0          0      0         0   ...      \n",
       "1373407612938533591_53918317         0          0      0         0   ...      \n",
       "1372871586851626025_53918317         0          0      0         0   ...      \n",
       "1376342482815974929_53918317         0          0      0         0   ...      \n",
       "\n",
       "                              Brooklyn  Hudson  Inkwell  Ginza  Walden  \\\n",
       "1372870097060159201_53918317         0       0        0      0       0   \n",
       "1376341630843643565_53918317         0       0        0      0       0   \n",
       "1373407612938533591_53918317         0       0        0      0       0   \n",
       "1372871586851626025_53918317         0       0        0      0       0   \n",
       "1376342482815974929_53918317         0       0        0      0       0   \n",
       "\n",
       "                              Earlybird  Sutro  Brannan  Helena  Charmes  \n",
       "1372870097060159201_53918317          0      0        0       0        0  \n",
       "1376341630843643565_53918317          0      0        0       0        0  \n",
       "1373407612938533591_53918317          0      0        0       0        0  \n",
       "1372871586851626025_53918317          0      0        0       0        0  \n",
       "1376342482815974929_53918317          0      0        0       0        0  \n",
       "\n",
       "[5 rows x 39 columns]"
      ]
     },
     "execution_count": 25,
     "metadata": {},
     "output_type": "execute_result"
    }
   ],
   "source": [
    "#generate a new df containing the classes corresponding to Butchniks emotions\n",
    "classes = image_df.image_filter.unique()\n",
    "from sklearn.preprocessing import label_binarize\n",
    "image_final = pd.DataFrame(label_binarize(image_df.image_filter, classes=classes),columns=classes,index=image_df.index)\n",
    "\n",
    "image_final.head()\n",
    "\n"
   ]
  },
  {
   "cell_type": "markdown",
   "metadata": {},
   "source": [
    "# Metrics"
   ]
  },
  {
   "cell_type": "code",
   "execution_count": 26,
   "metadata": {
    "collapsed": true
   },
   "outputs": [],
   "source": [
    "metrics_df = feather.read_dataframe('data_science_case/image_metrics.feather')"
   ]
  },
  {
   "cell_type": "code",
   "execution_count": 27,
   "metadata": {},
   "outputs": [
    {
     "data": {
      "text/plain": [
       "Index([u'image_id', u'comment_count', u'comment_count_time_created',\n",
       "       u'like_count', u'like_count_time_created'],\n",
       "      dtype='object')"
      ]
     },
     "execution_count": 27,
     "metadata": {},
     "output_type": "execute_result"
    }
   ],
   "source": [
    "metrics_df.columns"
   ]
  },
  {
   "cell_type": "code",
   "execution_count": 28,
   "metadata": {},
   "outputs": [
    {
     "data": {
      "text/html": [
       "<div>\n",
       "<style>\n",
       "    .dataframe thead tr:only-child th {\n",
       "        text-align: right;\n",
       "    }\n",
       "\n",
       "    .dataframe thead th {\n",
       "        text-align: left;\n",
       "    }\n",
       "\n",
       "    .dataframe tbody tr th {\n",
       "        vertical-align: top;\n",
       "    }\n",
       "</style>\n",
       "<table border=\"1\" class=\"dataframe\">\n",
       "  <thead>\n",
       "    <tr style=\"text-align: right;\">\n",
       "      <th></th>\n",
       "      <th>image_id</th>\n",
       "      <th>comment_count</th>\n",
       "      <th>like_count</th>\n",
       "    </tr>\n",
       "  </thead>\n",
       "  <tbody>\n",
       "    <tr>\n",
       "      <th>0</th>\n",
       "      <td>1337283311810249709_3041716852</td>\n",
       "      <td>0.0</td>\n",
       "      <td>15.0</td>\n",
       "    </tr>\n",
       "    <tr>\n",
       "      <th>1</th>\n",
       "      <td>1337283311810249709_3041716852</td>\n",
       "      <td>0.0</td>\n",
       "      <td>15.0</td>\n",
       "    </tr>\n",
       "    <tr>\n",
       "      <th>2</th>\n",
       "      <td>1337834353379743556_3041716852</td>\n",
       "      <td>0.0</td>\n",
       "      <td>23.0</td>\n",
       "    </tr>\n",
       "    <tr>\n",
       "      <th>3</th>\n",
       "      <td>1337834353379743556_3041716852</td>\n",
       "      <td>0.0</td>\n",
       "      <td>23.0</td>\n",
       "    </tr>\n",
       "    <tr>\n",
       "      <th>4</th>\n",
       "      <td>1516356155708878303_3041716852</td>\n",
       "      <td>5.0</td>\n",
       "      <td>19.0</td>\n",
       "    </tr>\n",
       "  </tbody>\n",
       "</table>\n",
       "</div>"
      ],
      "text/plain": [
       "                         image_id  comment_count  like_count\n",
       "0  1337283311810249709_3041716852            0.0        15.0\n",
       "1  1337283311810249709_3041716852            0.0        15.0\n",
       "2  1337834353379743556_3041716852            0.0        23.0\n",
       "3  1337834353379743556_3041716852            0.0        23.0\n",
       "4  1516356155708878303_3041716852            5.0        19.0"
      ]
     },
     "execution_count": 28,
     "metadata": {},
     "output_type": "execute_result"
    }
   ],
   "source": [
    "\n",
    "\n",
    "#Drop unnecessary columns in metrics_df dataframework\n",
    "metrics_df.head()\n",
    "drop = ['comment_count_time_created','like_count_time_created']\n",
    "metrics_df =  metrics_df.drop(drop,axis=1)\n",
    "metrics_df.head()"
   ]
  },
  {
   "cell_type": "code",
   "execution_count": null,
   "metadata": {
    "collapsed": true
   },
   "outputs": [],
   "source": []
  },
  {
   "cell_type": "code",
   "execution_count": 29,
   "metadata": {},
   "outputs": [
    {
     "data": {
      "text/plain": [
       "Index([u'image_id', u'image_height', u'image_width', u'image_filter',\n",
       "       u'image_posted_time', u'data_memorability', u'user_id',\n",
       "       u'user_followed_by', u'user_follows', u'user_posted_photos'],\n",
       "      dtype='object')"
      ]
     },
     "execution_count": 29,
     "metadata": {},
     "output_type": "execute_result"
    }
   ],
   "source": [
    "imgid_uid = image_survey_metrics[['user_id','image_id']].drop_duplicates() #set a matrix\n",
    "get_uid_from_imgid = imgid_uid.set_index('image_id').to_dict()['user_id'] # img_id -> uid\n",
    "get_imgids_from_uid = {k: list(v) for k,v in imgid_uid.groupby('user_id')[\"image_id\"]}\n",
    "\n",
    "image_df = feather.read_dataframe('data_science_case/image_data.feather')\n",
    "#Drop unnecessary columns in image_df dataframework\n",
    "image_df.head()\n",
    "drop = ['image_link','image_url','image_posted_time_unix','user_full_name',\\\n",
    "        'user_name','user_website','user_profile_pic','user_bio']\n",
    "\n",
    "image_df =  image_df.drop(drop,axis=1)\n",
    "#image_df.head()\n",
    "image_df.columns"
   ]
  },
  {
   "cell_type": "code",
   "execution_count": 30,
   "metadata": {},
   "outputs": [
    {
     "data": {
      "text/html": [
       "<div>\n",
       "<style>\n",
       "    .dataframe thead tr:only-child th {\n",
       "        text-align: right;\n",
       "    }\n",
       "\n",
       "    .dataframe thead th {\n",
       "        text-align: left;\n",
       "    }\n",
       "\n",
       "    .dataframe tbody tr th {\n",
       "        vertical-align: top;\n",
       "    }\n",
       "</style>\n",
       "<table border=\"1\" class=\"dataframe\">\n",
       "  <thead>\n",
       "    <tr style=\"text-align: right;\">\n",
       "      <th></th>\n",
       "      <th>user_followed_by</th>\n",
       "      <th>PERMA</th>\n",
       "      <th>comment_count</th>\n",
       "      <th>like_count</th>\n",
       "      <th>user_id</th>\n",
       "      <th>image_filter</th>\n",
       "      <th>start_q</th>\n",
       "      <th>end_q</th>\n",
       "      <th>image_posted_time</th>\n",
       "    </tr>\n",
       "  </thead>\n",
       "  <tbody>\n",
       "    <tr>\n",
       "      <th>1372870097060159201_53918317</th>\n",
       "      <td>100.0</td>\n",
       "      <td>5.0</td>\n",
       "      <td>0.0</td>\n",
       "      <td>3.0</td>\n",
       "      <td>53918317.0</td>\n",
       "      <td>Normal</td>\n",
       "      <td>2016-12-05 14:05:13</td>\n",
       "      <td>2016-12-05 14:06:38</td>\n",
       "      <td>2016-10-31 01:54:50</td>\n",
       "    </tr>\n",
       "    <tr>\n",
       "      <th>1376341630843643565_53918317</th>\n",
       "      <td>100.0</td>\n",
       "      <td>5.0</td>\n",
       "      <td>0.0</td>\n",
       "      <td>6.0</td>\n",
       "      <td>53918317.0</td>\n",
       "      <td>Normal</td>\n",
       "      <td>2016-12-05 14:05:13</td>\n",
       "      <td>2016-12-05 14:06:38</td>\n",
       "      <td>2016-11-04 20:52:09</td>\n",
       "    </tr>\n",
       "    <tr>\n",
       "      <th>1373407612938533591_53918317</th>\n",
       "      <td>100.0</td>\n",
       "      <td>5.0</td>\n",
       "      <td>0.0</td>\n",
       "      <td>4.0</td>\n",
       "      <td>53918317.0</td>\n",
       "      <td>Moon</td>\n",
       "      <td>2016-12-05 14:05:13</td>\n",
       "      <td>2016-12-05 14:06:38</td>\n",
       "      <td>2016-10-31 19:42:47</td>\n",
       "    </tr>\n",
       "    <tr>\n",
       "      <th>1372871586851626025_53918317</th>\n",
       "      <td>100.0</td>\n",
       "      <td>5.0</td>\n",
       "      <td>0.0</td>\n",
       "      <td>4.0</td>\n",
       "      <td>53918317.0</td>\n",
       "      <td>Mayfair</td>\n",
       "      <td>2016-12-05 14:05:13</td>\n",
       "      <td>2016-12-05 14:06:38</td>\n",
       "      <td>2016-10-31 01:57:48</td>\n",
       "    </tr>\n",
       "    <tr>\n",
       "      <th>1376342482815974929_53918317</th>\n",
       "      <td>100.0</td>\n",
       "      <td>5.0</td>\n",
       "      <td>0.0</td>\n",
       "      <td>8.0</td>\n",
       "      <td>53918317.0</td>\n",
       "      <td>Normal</td>\n",
       "      <td>2016-12-05 14:05:13</td>\n",
       "      <td>2016-12-05 14:06:38</td>\n",
       "      <td>2016-11-04 20:53:51</td>\n",
       "    </tr>\n",
       "  </tbody>\n",
       "</table>\n",
       "</div>"
      ],
      "text/plain": [
       "                              user_followed_by  PERMA  comment_count  \\\n",
       "1372870097060159201_53918317             100.0    5.0            0.0   \n",
       "1376341630843643565_53918317             100.0    5.0            0.0   \n",
       "1373407612938533591_53918317             100.0    5.0            0.0   \n",
       "1372871586851626025_53918317             100.0    5.0            0.0   \n",
       "1376342482815974929_53918317             100.0    5.0            0.0   \n",
       "\n",
       "                              like_count     user_id image_filter  \\\n",
       "1372870097060159201_53918317         3.0  53918317.0       Normal   \n",
       "1376341630843643565_53918317         6.0  53918317.0       Normal   \n",
       "1373407612938533591_53918317         4.0  53918317.0         Moon   \n",
       "1372871586851626025_53918317         4.0  53918317.0      Mayfair   \n",
       "1376342482815974929_53918317         8.0  53918317.0       Normal   \n",
       "\n",
       "                                         start_q               end_q  \\\n",
       "1372870097060159201_53918317 2016-12-05 14:05:13 2016-12-05 14:06:38   \n",
       "1376341630843643565_53918317 2016-12-05 14:05:13 2016-12-05 14:06:38   \n",
       "1373407612938533591_53918317 2016-12-05 14:05:13 2016-12-05 14:06:38   \n",
       "1372871586851626025_53918317 2016-12-05 14:05:13 2016-12-05 14:06:38   \n",
       "1376342482815974929_53918317 2016-12-05 14:05:13 2016-12-05 14:06:38   \n",
       "\n",
       "                               image_posted_time  \n",
       "1372870097060159201_53918317 2016-10-31 01:54:50  \n",
       "1376341630843643565_53918317 2016-11-04 20:52:09  \n",
       "1373407612938533591_53918317 2016-10-31 19:42:47  \n",
       "1372871586851626025_53918317 2016-10-31 01:57:48  \n",
       "1376342482815974929_53918317 2016-11-04 20:53:51  "
      ]
     },
     "execution_count": 30,
     "metadata": {},
     "output_type": "execute_result"
    }
   ],
   "source": [
    "#load ANPs from Aris pickle df\n",
    "a = ['user_followed_by','PERMA','comment_count','like_count','image_id','user_id','image_filter']\n",
    "\n",
    "a.append('start_q')\n",
    "a.append('end_q')\n",
    "a.append('image_posted_time')\n",
    "\n",
    "#TOTAL POSITIVE SCORE\n",
    "#a.append('P_EMO')\n",
    "\n",
    "#TOTAL NEGATIVE SCORE\n",
    "#a.append('N_EMO')\n",
    "\n",
    "#IMAGE FEATURES\n",
    "\n",
    "image_metrics_df = image_survey_metrics[a].drop_duplicates().set_index(\"image_id\")\n",
    "del image_metrics_df.index.name\n",
    "image_metrics_df.head()\n"
   ]
  },
  {
   "cell_type": "code",
   "execution_count": 31,
   "metadata": {},
   "outputs": [
    {
     "name": "stdout",
     "output_type": "stream",
     "text": [
      "[u'Moon' u'Mayfair' u'Lark' u'Sierra' u'Rise' u'Valencia' u'Nashville'\n",
      " u'Amaro' u'Perpetua' u'Hefe' u'Ludwig' u'Juno' u'Clarendon' u'Slumber'\n",
      " u'Gingham' u'Reyes' u'Aden' u'Lo-fi' u'Crema' u'Willow' u'X-Pro II'\n",
      " u'Ashby' u'Vesper' u'Skyline' u'Stinson' u'1977' u'Maven' u'Dogpatch'\n",
      " u'Brooklyn' u'Hudson' u'Inkwell' u'Ginza' u'Walden' u'Earlybird' u'Sutro'\n",
      " u'Brannan' u'Helena' u'Charmes']\n",
      "The last year dataframe has 82 users.\n",
      "(1054, 9)\n"
     ]
    }
   ],
   "source": [
    "#!!!!!!!!!!!!!!!!!!!!!!!!!\n",
    "\n",
    "image_metrics_df = image_metrics_df[image_metrics_df[u'image_filter']!= 'Normal']\n",
    "print image_metrics_df.image_filter.unique()\n",
    "print 'The last year dataframe has '+ str(len(image_metrics_df['user_id'].unique()))+' users.'\n",
    "print image_metrics_df.shape\n"
   ]
  },
  {
   "cell_type": "code",
   "execution_count": 32,
   "metadata": {},
   "outputs": [
    {
     "data": {
      "text/plain": [
       "(82, 4)"
      ]
     },
     "execution_count": 32,
     "metadata": {},
     "output_type": "execute_result"
    }
   ],
   "source": [
    "avg_metrics  = image_metrics_df.groupby('user_id').mean()\n",
    "#avg_metrics = pd.DataFrame({image_metrics_df.groupby('user_id').mean()}).reset.index()\n",
    "avg_metrics.shape"
   ]
  },
  {
   "cell_type": "code",
   "execution_count": 33,
   "metadata": {},
   "outputs": [
    {
     "data": {
      "text/html": [
       "<div>\n",
       "<style>\n",
       "    .dataframe thead tr:only-child th {\n",
       "        text-align: right;\n",
       "    }\n",
       "\n",
       "    .dataframe thead th {\n",
       "        text-align: left;\n",
       "    }\n",
       "\n",
       "    .dataframe tbody tr th {\n",
       "        vertical-align: top;\n",
       "    }\n",
       "</style>\n",
       "<table border=\"1\" class=\"dataframe\">\n",
       "  <thead>\n",
       "    <tr style=\"text-align: right;\">\n",
       "      <th></th>\n",
       "      <th>user_followed_by</th>\n",
       "      <th>PERMA</th>\n",
       "      <th>comment_count</th>\n",
       "      <th>like_count</th>\n",
       "    </tr>\n",
       "    <tr>\n",
       "      <th>user_id</th>\n",
       "      <th></th>\n",
       "      <th></th>\n",
       "      <th></th>\n",
       "      <th></th>\n",
       "    </tr>\n",
       "  </thead>\n",
       "  <tbody>\n",
       "    <tr>\n",
       "      <th>1619510.0</th>\n",
       "      <td>364.0</td>\n",
       "      <td>4.181818</td>\n",
       "      <td>1.4</td>\n",
       "      <td>17.800000</td>\n",
       "    </tr>\n",
       "    <tr>\n",
       "      <th>2829661.0</th>\n",
       "      <td>198.0</td>\n",
       "      <td>7.454545</td>\n",
       "      <td>2.0</td>\n",
       "      <td>9.000000</td>\n",
       "    </tr>\n",
       "    <tr>\n",
       "      <th>3988856.0</th>\n",
       "      <td>732.0</td>\n",
       "      <td>7.818182</td>\n",
       "      <td>2.0</td>\n",
       "      <td>29.500000</td>\n",
       "    </tr>\n",
       "    <tr>\n",
       "      <th>6734387.0</th>\n",
       "      <td>1047.0</td>\n",
       "      <td>6.181818</td>\n",
       "      <td>4.5</td>\n",
       "      <td>220.375000</td>\n",
       "    </tr>\n",
       "    <tr>\n",
       "      <th>7410944.0</th>\n",
       "      <td>146.0</td>\n",
       "      <td>7.590909</td>\n",
       "      <td>0.3</td>\n",
       "      <td>15.833333</td>\n",
       "    </tr>\n",
       "  </tbody>\n",
       "</table>\n",
       "</div>"
      ],
      "text/plain": [
       "           user_followed_by     PERMA  comment_count  like_count\n",
       "user_id                                                         \n",
       "1619510.0             364.0  4.181818            1.4   17.800000\n",
       "2829661.0             198.0  7.454545            2.0    9.000000\n",
       "3988856.0             732.0  7.818182            2.0   29.500000\n",
       "6734387.0            1047.0  6.181818            4.5  220.375000\n",
       "7410944.0             146.0  7.590909            0.3   15.833333"
      ]
     },
     "execution_count": 33,
     "metadata": {},
     "output_type": "execute_result"
    }
   ],
   "source": [
    "avg_metrics.head()"
   ]
  },
  {
   "cell_type": "code",
   "execution_count": 34,
   "metadata": {
    "scrolled": true
   },
   "outputs": [
    {
     "data": {
      "text/plain": [
       "[3807589911.0,\n",
       " 2062266819.0,\n",
       " 2032642067.0,\n",
       " 275510681.0,\n",
       " 30837828.0,\n",
       " 1976682131.0]"
      ]
     },
     "execution_count": 34,
     "metadata": {},
     "output_type": "execute_result"
    }
   ],
   "source": [
    "#outliers = [str(i) for i in outliers]\n",
    "outliers"
   ]
  },
  {
   "cell_type": "code",
   "execution_count": 35,
   "metadata": {
    "collapsed": true
   },
   "outputs": [],
   "source": [
    "#avg_metrics = avg_metrics.drop(outliers)"
   ]
  },
  {
   "cell_type": "code",
   "execution_count": 36,
   "metadata": {},
   "outputs": [
    {
     "name": "stdout",
     "output_type": "stream",
     "text": [
      "(82, 4)\n"
     ]
    },
    {
     "data": {
      "text/html": [
       "<div>\n",
       "<style>\n",
       "    .dataframe thead tr:only-child th {\n",
       "        text-align: right;\n",
       "    }\n",
       "\n",
       "    .dataframe thead th {\n",
       "        text-align: left;\n",
       "    }\n",
       "\n",
       "    .dataframe tbody tr th {\n",
       "        vertical-align: top;\n",
       "    }\n",
       "</style>\n",
       "<table border=\"1\" class=\"dataframe\">\n",
       "  <thead>\n",
       "    <tr style=\"text-align: right;\">\n",
       "      <th></th>\n",
       "      <th>user_followed_by</th>\n",
       "      <th>PERMA</th>\n",
       "      <th>comment_count</th>\n",
       "      <th>like_count</th>\n",
       "    </tr>\n",
       "    <tr>\n",
       "      <th>user_id</th>\n",
       "      <th></th>\n",
       "      <th></th>\n",
       "      <th></th>\n",
       "      <th></th>\n",
       "    </tr>\n",
       "  </thead>\n",
       "  <tbody>\n",
       "    <tr>\n",
       "      <th>1619510.0</th>\n",
       "      <td>364.0</td>\n",
       "      <td>4.181818</td>\n",
       "      <td>1.4</td>\n",
       "      <td>17.800000</td>\n",
       "    </tr>\n",
       "    <tr>\n",
       "      <th>2829661.0</th>\n",
       "      <td>198.0</td>\n",
       "      <td>7.454545</td>\n",
       "      <td>2.0</td>\n",
       "      <td>9.000000</td>\n",
       "    </tr>\n",
       "    <tr>\n",
       "      <th>3988856.0</th>\n",
       "      <td>732.0</td>\n",
       "      <td>7.818182</td>\n",
       "      <td>2.0</td>\n",
       "      <td>29.500000</td>\n",
       "    </tr>\n",
       "    <tr>\n",
       "      <th>6734387.0</th>\n",
       "      <td>1047.0</td>\n",
       "      <td>6.181818</td>\n",
       "      <td>4.5</td>\n",
       "      <td>220.375000</td>\n",
       "    </tr>\n",
       "    <tr>\n",
       "      <th>7410944.0</th>\n",
       "      <td>146.0</td>\n",
       "      <td>7.590909</td>\n",
       "      <td>0.3</td>\n",
       "      <td>15.833333</td>\n",
       "    </tr>\n",
       "  </tbody>\n",
       "</table>\n",
       "</div>"
      ],
      "text/plain": [
       "           user_followed_by     PERMA  comment_count  like_count\n",
       "user_id                                                         \n",
       "1619510.0             364.0  4.181818            1.4   17.800000\n",
       "2829661.0             198.0  7.454545            2.0    9.000000\n",
       "3988856.0             732.0  7.818182            2.0   29.500000\n",
       "6734387.0            1047.0  6.181818            4.5  220.375000\n",
       "7410944.0             146.0  7.590909            0.3   15.833333"
      ]
     },
     "execution_count": 36,
     "metadata": {},
     "output_type": "execute_result"
    }
   ],
   "source": [
    "\n",
    "\n",
    "print avg_metrics.shape\n",
    "avg_metrics.head()"
   ]
  },
  {
   "cell_type": "code",
   "execution_count": 37,
   "metadata": {},
   "outputs": [
    {
     "data": {
      "text/plain": [
       "<matplotlib.axes._subplots.AxesSubplot at 0x7f44e7e76150>"
      ]
     },
     "execution_count": 37,
     "metadata": {},
     "output_type": "execute_result"
    },
    {
     "data": {
      "image/png": "[encoded data removed]",
      "text/plain": [
       "<matplotlib.figure.Figure at 0x7f44e7e76bd0>"
      ]
     },
     "metadata": {},
     "output_type": "display_data"
    }
   ],
   "source": [
    "sns.regplot('comment_count','PERMA',data=avg_metrics)"
   ]
  },
  {
   "cell_type": "code",
   "execution_count": 38,
   "metadata": {},
   "outputs": [
    {
     "data": {
      "text/plain": [
       "<matplotlib.axes._subplots.AxesSubplot at 0x7f44e2be2510>"
      ]
     },
     "execution_count": 38,
     "metadata": {},
     "output_type": "execute_result"
    },
    {
     "data": {
      "image/png": "[encoded data removed]",
      "text/plain": [
       "<matplotlib.figure.Figure at 0x7f44ead077d0>"
      ]
     },
     "metadata": {},
     "output_type": "display_data"
    }
   ],
   "source": [
    "sns.regplot('like_count','PERMA',data=avg_metrics[avg_metrics.like_count<120])"
   ]
  },
  {
   "cell_type": "code",
   "execution_count": 39,
   "metadata": {},
   "outputs": [
    {
     "name": "stdout",
     "output_type": "stream",
     "text": [
      "2017-03-22 04:04:02\n",
      "2016-12-05 14:01:26\n",
      "2017-03-22 04:07:08\n",
      "2016-12-05 14:02:52\n"
     ]
    }
   ],
   "source": [
    "from dateutil.relativedelta import relativedelta\n",
    "import datetime\n",
    "print image_metrics_df['start_q'].max()\n",
    "print image_metrics_df['start_q'].min()\n",
    "print image_metrics_df['end_q'].max()\n",
    "print image_metrics_df['end_q'].min()\n",
    "\n",
    "\n",
    "def Get_Linear_Weight(peak_date,given_date, days_drop_interval = 90):\n",
    "    '''\n",
    "    Constructs a triangle which has a peak value of 1 in the peak_date \n",
    "    and then linearly descends until it reaches 0 in days_interval days\n",
    "    \n",
    "    type(peak_date) = datetime.datetime\n",
    "    type(given_date) = datetime.datetime\n",
    "    days_drop_interval = int\n",
    "    \n",
    "    Usage:\n",
    "    \n",
    "    peak_date=datetime.datetime(2017,10,20)\n",
    "    given_date=datetime.datetime(2018,1,21)\n",
    "    Get_Linear_Weight(peak_date,given_date,days_drop_interval=200)\n",
    "    > 0.9535\n",
    "    \n",
    "    Get_Linear_Weight(peak_date,given_date,days_drop_interval=30)\n",
    "    > 0\n",
    "    '''\n",
    "    #peak_date=datetime.datetime(peak_date)\n",
    "    #given_date=datetime.datetime(given_date)\n",
    "    diff = peak_date-given_date\n",
    "    if abs(diff)>datetime.timedelta(days_drop_interval):\n",
    "        return 0\n",
    "    return 1-(abs(diff.days)/float(days_drop_interval))"
   ]
  },
  {
   "cell_type": "code",
   "execution_count": 40,
   "metadata": {},
   "outputs": [
    {
     "data": {
      "text/plain": [
       "0.6"
      ]
     },
     "execution_count": 40,
     "metadata": {},
     "output_type": "execute_result"
    }
   ],
   "source": [
    "Get_Linear_Weight(image_metrics_df.image_posted_time[1], image_metrics_df.end_q[1])"
   ]
  },
  {
   "cell_type": "code",
   "execution_count": 41,
   "metadata": {},
   "outputs": [
    {
     "data": {
      "text/plain": [
       "Timedelta('35 days 12:08:50')"
      ]
     },
     "execution_count": 41,
     "metadata": {},
     "output_type": "execute_result"
    }
   ],
   "source": [
    "image_metrics_df.end_q[1]-image_metrics_df.image_posted_time[1]"
   ]
  },
  {
   "cell_type": "code",
   "execution_count": 42,
   "metadata": {},
   "outputs": [
    {
     "data": {
      "text/plain": [
       "Timestamp('2016-10-31 01:57:48')"
      ]
     },
     "execution_count": 42,
     "metadata": {},
     "output_type": "execute_result"
    }
   ],
   "source": [
    "image_metrics_df.image_posted_time[1]"
   ]
  },
  {
   "cell_type": "code",
   "execution_count": 43,
   "metadata": {},
   "outputs": [
    {
     "data": {
      "text/plain": [
       "Timestamp('2016-12-05 14:06:38')"
      ]
     },
     "execution_count": 43,
     "metadata": {},
     "output_type": "execute_result"
    }
   ],
   "source": [
    "image_metrics_df.end_q[1]"
   ]
  },
  {
   "cell_type": "code",
   "execution_count": 44,
   "metadata": {},
   "outputs": [
    {
     "data": {
      "text/html": [
       "<div>\n",
       "<style>\n",
       "    .dataframe thead tr:only-child th {\n",
       "        text-align: right;\n",
       "    }\n",
       "\n",
       "    .dataframe thead th {\n",
       "        text-align: left;\n",
       "    }\n",
       "\n",
       "    .dataframe tbody tr th {\n",
       "        vertical-align: top;\n",
       "    }\n",
       "</style>\n",
       "<table border=\"1\" class=\"dataframe\">\n",
       "  <thead>\n",
       "    <tr style=\"text-align: right;\">\n",
       "      <th></th>\n",
       "      <th>user_followed_by</th>\n",
       "      <th>PERMA</th>\n",
       "      <th>comment_count</th>\n",
       "      <th>like_count</th>\n",
       "      <th>user_id</th>\n",
       "      <th>image_filter</th>\n",
       "      <th>start_q</th>\n",
       "      <th>end_q</th>\n",
       "      <th>image_posted_time</th>\n",
       "    </tr>\n",
       "  </thead>\n",
       "  <tbody>\n",
       "    <tr>\n",
       "      <th>1373407612938533591_53918317</th>\n",
       "      <td>100.0</td>\n",
       "      <td>5.000000</td>\n",
       "      <td>0.0</td>\n",
       "      <td>4.0</td>\n",
       "      <td>53918317.0</td>\n",
       "      <td>Moon</td>\n",
       "      <td>2016-12-05 14:05:13</td>\n",
       "      <td>2016-12-05 14:06:38</td>\n",
       "      <td>2016-10-31 19:42:47</td>\n",
       "    </tr>\n",
       "    <tr>\n",
       "      <th>1372871586851626025_53918317</th>\n",
       "      <td>100.0</td>\n",
       "      <td>5.000000</td>\n",
       "      <td>0.0</td>\n",
       "      <td>4.0</td>\n",
       "      <td>53918317.0</td>\n",
       "      <td>Mayfair</td>\n",
       "      <td>2016-12-05 14:05:13</td>\n",
       "      <td>2016-12-05 14:06:38</td>\n",
       "      <td>2016-10-31 01:57:48</td>\n",
       "    </tr>\n",
       "    <tr>\n",
       "      <th>1373589994983539906_53918317</th>\n",
       "      <td>100.0</td>\n",
       "      <td>5.000000</td>\n",
       "      <td>3.0</td>\n",
       "      <td>15.0</td>\n",
       "      <td>53918317.0</td>\n",
       "      <td>Lark</td>\n",
       "      <td>2016-12-05 14:05:13</td>\n",
       "      <td>2016-12-05 14:06:38</td>\n",
       "      <td>2016-11-01 01:45:09</td>\n",
       "    </tr>\n",
       "    <tr>\n",
       "      <th>1493013377612710198_11520833</th>\n",
       "      <td>201.0</td>\n",
       "      <td>6.681818</td>\n",
       "      <td>2.0</td>\n",
       "      <td>21.0</td>\n",
       "      <td>11520833.0</td>\n",
       "      <td>Sierra</td>\n",
       "      <td>2016-12-05 14:08:47</td>\n",
       "      <td>2016-12-05 14:10:57</td>\n",
       "      <td>2017-04-14 20:18:05</td>\n",
       "    </tr>\n",
       "    <tr>\n",
       "      <th>1535098790149923516_287562303</th>\n",
       "      <td>456.0</td>\n",
       "      <td>7.136364</td>\n",
       "      <td>1.0</td>\n",
       "      <td>120.0</td>\n",
       "      <td>287562303.0</td>\n",
       "      <td>Rise</td>\n",
       "      <td>2016-12-05 14:30:51</td>\n",
       "      <td>2016-12-05 14:32:07</td>\n",
       "      <td>2017-06-11 21:54:17</td>\n",
       "    </tr>\n",
       "  </tbody>\n",
       "</table>\n",
       "</div>"
      ],
      "text/plain": [
       "                               user_followed_by     PERMA  comment_count  \\\n",
       "1373407612938533591_53918317              100.0  5.000000            0.0   \n",
       "1372871586851626025_53918317              100.0  5.000000            0.0   \n",
       "1373589994983539906_53918317              100.0  5.000000            3.0   \n",
       "1493013377612710198_11520833              201.0  6.681818            2.0   \n",
       "1535098790149923516_287562303             456.0  7.136364            1.0   \n",
       "\n",
       "                               like_count      user_id image_filter  \\\n",
       "1373407612938533591_53918317          4.0   53918317.0         Moon   \n",
       "1372871586851626025_53918317          4.0   53918317.0      Mayfair   \n",
       "1373589994983539906_53918317         15.0   53918317.0         Lark   \n",
       "1493013377612710198_11520833         21.0   11520833.0       Sierra   \n",
       "1535098790149923516_287562303       120.0  287562303.0         Rise   \n",
       "\n",
       "                                          start_q               end_q  \\\n",
       "1373407612938533591_53918317  2016-12-05 14:05:13 2016-12-05 14:06:38   \n",
       "1372871586851626025_53918317  2016-12-05 14:05:13 2016-12-05 14:06:38   \n",
       "1373589994983539906_53918317  2016-12-05 14:05:13 2016-12-05 14:06:38   \n",
       "1493013377612710198_11520833  2016-12-05 14:08:47 2016-12-05 14:10:57   \n",
       "1535098790149923516_287562303 2016-12-05 14:30:51 2016-12-05 14:32:07   \n",
       "\n",
       "                                image_posted_time  \n",
       "1373407612938533591_53918317  2016-10-31 19:42:47  \n",
       "1372871586851626025_53918317  2016-10-31 01:57:48  \n",
       "1373589994983539906_53918317  2016-11-01 01:45:09  \n",
       "1493013377612710198_11520833  2017-04-14 20:18:05  \n",
       "1535098790149923516_287562303 2017-06-11 21:54:17  "
      ]
     },
     "execution_count": 44,
     "metadata": {},
     "output_type": "execute_result"
    }
   ],
   "source": [
    "image_metrics_df.head()"
   ]
  },
  {
   "cell_type": "code",
   "execution_count": 45,
   "metadata": {},
   "outputs": [
    {
     "data": {
      "text/plain": [
       "(83, 4)"
      ]
     },
     "execution_count": 45,
     "metadata": {},
     "output_type": "execute_result"
    }
   ],
   "source": [
    "avg_metrics  = image_metrics_df.groupby(['user_id','end_q']).mean()\n",
    "#avg_metrics = pd.DataFrame({image_metrics_df.groupby('user_id').mean()}).reset.index()\n",
    "avg_metrics.shape"
   ]
  },
  {
   "cell_type": "code",
   "execution_count": 46,
   "metadata": {},
   "outputs": [
    {
     "data": {
      "text/html": [
       "<div>\n",
       "<style>\n",
       "    .dataframe thead tr:only-child th {\n",
       "        text-align: right;\n",
       "    }\n",
       "\n",
       "    .dataframe thead th {\n",
       "        text-align: left;\n",
       "    }\n",
       "\n",
       "    .dataframe tbody tr th {\n",
       "        vertical-align: top;\n",
       "    }\n",
       "</style>\n",
       "<table border=\"1\" class=\"dataframe\">\n",
       "  <thead>\n",
       "    <tr style=\"text-align: right;\">\n",
       "      <th></th>\n",
       "      <th></th>\n",
       "      <th>user_followed_by</th>\n",
       "      <th>PERMA</th>\n",
       "      <th>comment_count</th>\n",
       "      <th>like_count</th>\n",
       "    </tr>\n",
       "    <tr>\n",
       "      <th>user_id</th>\n",
       "      <th>end_q</th>\n",
       "      <th></th>\n",
       "      <th></th>\n",
       "      <th></th>\n",
       "      <th></th>\n",
       "    </tr>\n",
       "  </thead>\n",
       "  <tbody>\n",
       "    <tr>\n",
       "      <th>1619510.0</th>\n",
       "      <th>2016-12-05 15:07:11</th>\n",
       "      <td>364.0</td>\n",
       "      <td>4.181818</td>\n",
       "      <td>1.4</td>\n",
       "      <td>17.800000</td>\n",
       "    </tr>\n",
       "    <tr>\n",
       "      <th>2829661.0</th>\n",
       "      <th>2016-12-05 17:27:11</th>\n",
       "      <td>198.0</td>\n",
       "      <td>7.454545</td>\n",
       "      <td>2.0</td>\n",
       "      <td>9.000000</td>\n",
       "    </tr>\n",
       "    <tr>\n",
       "      <th>3988856.0</th>\n",
       "      <th>2016-12-05 14:05:37</th>\n",
       "      <td>732.0</td>\n",
       "      <td>7.818182</td>\n",
       "      <td>2.0</td>\n",
       "      <td>29.500000</td>\n",
       "    </tr>\n",
       "    <tr>\n",
       "      <th>6734387.0</th>\n",
       "      <th>2016-12-05 15:00:59</th>\n",
       "      <td>1047.0</td>\n",
       "      <td>6.181818</td>\n",
       "      <td>4.5</td>\n",
       "      <td>220.375000</td>\n",
       "    </tr>\n",
       "    <tr>\n",
       "      <th>7410944.0</th>\n",
       "      <th>2016-12-05 18:58:23</th>\n",
       "      <td>146.0</td>\n",
       "      <td>7.590909</td>\n",
       "      <td>0.3</td>\n",
       "      <td>15.833333</td>\n",
       "    </tr>\n",
       "  </tbody>\n",
       "</table>\n",
       "</div>"
      ],
      "text/plain": [
       "                               user_followed_by     PERMA  comment_count  \\\n",
       "user_id   end_q                                                            \n",
       "1619510.0 2016-12-05 15:07:11             364.0  4.181818            1.4   \n",
       "2829661.0 2016-12-05 17:27:11             198.0  7.454545            2.0   \n",
       "3988856.0 2016-12-05 14:05:37             732.0  7.818182            2.0   \n",
       "6734387.0 2016-12-05 15:00:59            1047.0  6.181818            4.5   \n",
       "7410944.0 2016-12-05 18:58:23             146.0  7.590909            0.3   \n",
       "\n",
       "                               like_count  \n",
       "user_id   end_q                            \n",
       "1619510.0 2016-12-05 15:07:11   17.800000  \n",
       "2829661.0 2016-12-05 17:27:11    9.000000  \n",
       "3988856.0 2016-12-05 14:05:37   29.500000  \n",
       "6734387.0 2016-12-05 15:00:59  220.375000  \n",
       "7410944.0 2016-12-05 18:58:23   15.833333  "
      ]
     },
     "execution_count": 46,
     "metadata": {},
     "output_type": "execute_result"
    }
   ],
   "source": [
    "avg_metrics.head()"
   ]
  },
  {
   "cell_type": "code",
   "execution_count": 47,
   "metadata": {},
   "outputs": [
    {
     "data": {
      "text/html": [
       "<div>\n",
       "<style>\n",
       "    .dataframe thead tr:only-child th {\n",
       "        text-align: right;\n",
       "    }\n",
       "\n",
       "    .dataframe thead th {\n",
       "        text-align: left;\n",
       "    }\n",
       "\n",
       "    .dataframe tbody tr th {\n",
       "        vertical-align: top;\n",
       "    }\n",
       "</style>\n",
       "<table border=\"1\" class=\"dataframe\">\n",
       "  <thead>\n",
       "    <tr style=\"text-align: right;\">\n",
       "      <th></th>\n",
       "      <th>user_followed_by</th>\n",
       "      <th>PERMA</th>\n",
       "      <th>comment_count</th>\n",
       "      <th>like_count</th>\n",
       "      <th>user_id</th>\n",
       "      <th>image_filter</th>\n",
       "      <th>start_q</th>\n",
       "      <th>end_q</th>\n",
       "      <th>image_posted_time</th>\n",
       "    </tr>\n",
       "  </thead>\n",
       "  <tbody>\n",
       "    <tr>\n",
       "      <th>1373407612938533591_53918317</th>\n",
       "      <td>100.0</td>\n",
       "      <td>5.000000</td>\n",
       "      <td>0.0</td>\n",
       "      <td>4.0</td>\n",
       "      <td>53918317.0</td>\n",
       "      <td>Moon</td>\n",
       "      <td>2016-12-05 14:05:13</td>\n",
       "      <td>2016-12-05 14:06:38</td>\n",
       "      <td>2016-10-31 19:42:47</td>\n",
       "    </tr>\n",
       "    <tr>\n",
       "      <th>1372871586851626025_53918317</th>\n",
       "      <td>100.0</td>\n",
       "      <td>5.000000</td>\n",
       "      <td>0.0</td>\n",
       "      <td>4.0</td>\n",
       "      <td>53918317.0</td>\n",
       "      <td>Mayfair</td>\n",
       "      <td>2016-12-05 14:05:13</td>\n",
       "      <td>2016-12-05 14:06:38</td>\n",
       "      <td>2016-10-31 01:57:48</td>\n",
       "    </tr>\n",
       "    <tr>\n",
       "      <th>1373589994983539906_53918317</th>\n",
       "      <td>100.0</td>\n",
       "      <td>5.000000</td>\n",
       "      <td>3.0</td>\n",
       "      <td>15.0</td>\n",
       "      <td>53918317.0</td>\n",
       "      <td>Lark</td>\n",
       "      <td>2016-12-05 14:05:13</td>\n",
       "      <td>2016-12-05 14:06:38</td>\n",
       "      <td>2016-11-01 01:45:09</td>\n",
       "    </tr>\n",
       "    <tr>\n",
       "      <th>1493013377612710198_11520833</th>\n",
       "      <td>201.0</td>\n",
       "      <td>6.681818</td>\n",
       "      <td>2.0</td>\n",
       "      <td>21.0</td>\n",
       "      <td>11520833.0</td>\n",
       "      <td>Sierra</td>\n",
       "      <td>2016-12-05 14:08:47</td>\n",
       "      <td>2016-12-05 14:10:57</td>\n",
       "      <td>2017-04-14 20:18:05</td>\n",
       "    </tr>\n",
       "    <tr>\n",
       "      <th>1535098790149923516_287562303</th>\n",
       "      <td>456.0</td>\n",
       "      <td>7.136364</td>\n",
       "      <td>1.0</td>\n",
       "      <td>120.0</td>\n",
       "      <td>287562303.0</td>\n",
       "      <td>Rise</td>\n",
       "      <td>2016-12-05 14:30:51</td>\n",
       "      <td>2016-12-05 14:32:07</td>\n",
       "      <td>2017-06-11 21:54:17</td>\n",
       "    </tr>\n",
       "  </tbody>\n",
       "</table>\n",
       "</div>"
      ],
      "text/plain": [
       "                               user_followed_by     PERMA  comment_count  \\\n",
       "1373407612938533591_53918317              100.0  5.000000            0.0   \n",
       "1372871586851626025_53918317              100.0  5.000000            0.0   \n",
       "1373589994983539906_53918317              100.0  5.000000            3.0   \n",
       "1493013377612710198_11520833              201.0  6.681818            2.0   \n",
       "1535098790149923516_287562303             456.0  7.136364            1.0   \n",
       "\n",
       "                               like_count      user_id image_filter  \\\n",
       "1373407612938533591_53918317          4.0   53918317.0         Moon   \n",
       "1372871586851626025_53918317          4.0   53918317.0      Mayfair   \n",
       "1373589994983539906_53918317         15.0   53918317.0         Lark   \n",
       "1493013377612710198_11520833         21.0   11520833.0       Sierra   \n",
       "1535098790149923516_287562303       120.0  287562303.0         Rise   \n",
       "\n",
       "                                          start_q               end_q  \\\n",
       "1373407612938533591_53918317  2016-12-05 14:05:13 2016-12-05 14:06:38   \n",
       "1372871586851626025_53918317  2016-12-05 14:05:13 2016-12-05 14:06:38   \n",
       "1373589994983539906_53918317  2016-12-05 14:05:13 2016-12-05 14:06:38   \n",
       "1493013377612710198_11520833  2016-12-05 14:08:47 2016-12-05 14:10:57   \n",
       "1535098790149923516_287562303 2016-12-05 14:30:51 2016-12-05 14:32:07   \n",
       "\n",
       "                                image_posted_time  \n",
       "1373407612938533591_53918317  2016-10-31 19:42:47  \n",
       "1372871586851626025_53918317  2016-10-31 01:57:48  \n",
       "1373589994983539906_53918317  2016-11-01 01:45:09  \n",
       "1493013377612710198_11520833  2017-04-14 20:18:05  \n",
       "1535098790149923516_287562303 2017-06-11 21:54:17  "
      ]
     },
     "execution_count": 47,
     "metadata": {},
     "output_type": "execute_result"
    }
   ],
   "source": [
    "image_metrics_df.head()"
   ]
  },
  {
   "cell_type": "code",
   "execution_count": 48,
   "metadata": {},
   "outputs": [
    {
     "data": {
      "text/plain": [
       "pandas._libs.tslib.Timestamp"
      ]
     },
     "execution_count": 48,
     "metadata": {},
     "output_type": "execute_result"
    }
   ],
   "source": [
    "type(image_metrics_df.image_posted_time[0])"
   ]
  },
  {
   "cell_type": "code",
   "execution_count": 49,
   "metadata": {
    "collapsed": true
   },
   "outputs": [],
   "source": [
    "image_metrics_df['image_weight'] = \\\n",
    "map(lambda img_date, survey_date: Get_Linear_Weight(given_date=img_date, peak_date=survey_date) \\\n",
    "                                       , image_metrics_df.image_posted_time, image_metrics_df.end_q)"
   ]
  },
  {
   "cell_type": "code",
   "execution_count": 50,
   "metadata": {},
   "outputs": [
    {
     "data": {
      "text/html": [
       "<div>\n",
       "<style>\n",
       "    .dataframe thead tr:only-child th {\n",
       "        text-align: right;\n",
       "    }\n",
       "\n",
       "    .dataframe thead th {\n",
       "        text-align: left;\n",
       "    }\n",
       "\n",
       "    .dataframe tbody tr th {\n",
       "        vertical-align: top;\n",
       "    }\n",
       "</style>\n",
       "<table border=\"1\" class=\"dataframe\">\n",
       "  <thead>\n",
       "    <tr style=\"text-align: right;\">\n",
       "      <th></th>\n",
       "      <th>user_followed_by</th>\n",
       "      <th>PERMA</th>\n",
       "      <th>comment_count</th>\n",
       "      <th>like_count</th>\n",
       "      <th>user_id</th>\n",
       "      <th>image_filter</th>\n",
       "      <th>start_q</th>\n",
       "      <th>end_q</th>\n",
       "      <th>image_posted_time</th>\n",
       "      <th>image_weight</th>\n",
       "    </tr>\n",
       "  </thead>\n",
       "  <tbody>\n",
       "    <tr>\n",
       "      <th>1373407612938533591_53918317</th>\n",
       "      <td>100.0</td>\n",
       "      <td>5.000000</td>\n",
       "      <td>0.0</td>\n",
       "      <td>4.0</td>\n",
       "      <td>53918317.0</td>\n",
       "      <td>Moon</td>\n",
       "      <td>2016-12-05 14:05:13</td>\n",
       "      <td>2016-12-05 14:06:38</td>\n",
       "      <td>2016-10-31 19:42:47</td>\n",
       "      <td>0.622222</td>\n",
       "    </tr>\n",
       "    <tr>\n",
       "      <th>1372871586851626025_53918317</th>\n",
       "      <td>100.0</td>\n",
       "      <td>5.000000</td>\n",
       "      <td>0.0</td>\n",
       "      <td>4.0</td>\n",
       "      <td>53918317.0</td>\n",
       "      <td>Mayfair</td>\n",
       "      <td>2016-12-05 14:05:13</td>\n",
       "      <td>2016-12-05 14:06:38</td>\n",
       "      <td>2016-10-31 01:57:48</td>\n",
       "      <td>0.611111</td>\n",
       "    </tr>\n",
       "    <tr>\n",
       "      <th>1373589994983539906_53918317</th>\n",
       "      <td>100.0</td>\n",
       "      <td>5.000000</td>\n",
       "      <td>3.0</td>\n",
       "      <td>15.0</td>\n",
       "      <td>53918317.0</td>\n",
       "      <td>Lark</td>\n",
       "      <td>2016-12-05 14:05:13</td>\n",
       "      <td>2016-12-05 14:06:38</td>\n",
       "      <td>2016-11-01 01:45:09</td>\n",
       "      <td>0.622222</td>\n",
       "    </tr>\n",
       "    <tr>\n",
       "      <th>1493013377612710198_11520833</th>\n",
       "      <td>201.0</td>\n",
       "      <td>6.681818</td>\n",
       "      <td>2.0</td>\n",
       "      <td>21.0</td>\n",
       "      <td>11520833.0</td>\n",
       "      <td>Sierra</td>\n",
       "      <td>2016-12-05 14:08:47</td>\n",
       "      <td>2016-12-05 14:10:57</td>\n",
       "      <td>2017-04-14 20:18:05</td>\n",
       "      <td>0.000000</td>\n",
       "    </tr>\n",
       "    <tr>\n",
       "      <th>1535098790149923516_287562303</th>\n",
       "      <td>456.0</td>\n",
       "      <td>7.136364</td>\n",
       "      <td>1.0</td>\n",
       "      <td>120.0</td>\n",
       "      <td>287562303.0</td>\n",
       "      <td>Rise</td>\n",
       "      <td>2016-12-05 14:30:51</td>\n",
       "      <td>2016-12-05 14:32:07</td>\n",
       "      <td>2017-06-11 21:54:17</td>\n",
       "      <td>0.000000</td>\n",
       "    </tr>\n",
       "  </tbody>\n",
       "</table>\n",
       "</div>"
      ],
      "text/plain": [
       "                               user_followed_by     PERMA  comment_count  \\\n",
       "1373407612938533591_53918317              100.0  5.000000            0.0   \n",
       "1372871586851626025_53918317              100.0  5.000000            0.0   \n",
       "1373589994983539906_53918317              100.0  5.000000            3.0   \n",
       "1493013377612710198_11520833              201.0  6.681818            2.0   \n",
       "1535098790149923516_287562303             456.0  7.136364            1.0   \n",
       "\n",
       "                               like_count      user_id image_filter  \\\n",
       "1373407612938533591_53918317          4.0   53918317.0         Moon   \n",
       "1372871586851626025_53918317          4.0   53918317.0      Mayfair   \n",
       "1373589994983539906_53918317         15.0   53918317.0         Lark   \n",
       "1493013377612710198_11520833         21.0   11520833.0       Sierra   \n",
       "1535098790149923516_287562303       120.0  287562303.0         Rise   \n",
       "\n",
       "                                          start_q               end_q  \\\n",
       "1373407612938533591_53918317  2016-12-05 14:05:13 2016-12-05 14:06:38   \n",
       "1372871586851626025_53918317  2016-12-05 14:05:13 2016-12-05 14:06:38   \n",
       "1373589994983539906_53918317  2016-12-05 14:05:13 2016-12-05 14:06:38   \n",
       "1493013377612710198_11520833  2016-12-05 14:08:47 2016-12-05 14:10:57   \n",
       "1535098790149923516_287562303 2016-12-05 14:30:51 2016-12-05 14:32:07   \n",
       "\n",
       "                                image_posted_time  image_weight  \n",
       "1373407612938533591_53918317  2016-10-31 19:42:47      0.622222  \n",
       "1372871586851626025_53918317  2016-10-31 01:57:48      0.611111  \n",
       "1373589994983539906_53918317  2016-11-01 01:45:09      0.622222  \n",
       "1493013377612710198_11520833  2017-04-14 20:18:05      0.000000  \n",
       "1535098790149923516_287562303 2017-06-11 21:54:17      0.000000  "
      ]
     },
     "execution_count": 50,
     "metadata": {},
     "output_type": "execute_result"
    }
   ],
   "source": [
    "image_metrics_df.head()"
   ]
  },
  {
   "cell_type": "markdown",
   "metadata": {},
   "source": [
    "# Weight the catogories"
   ]
  },
  {
   "cell_type": "code",
   "execution_count": 51,
   "metadata": {
    "collapsed": true
   },
   "outputs": [],
   "source": [
    "# image_metrics_df['user_followed_by'] = image_metrics_df['user_followed_by']*image_metrics_df['image_weight']\n",
    "# image_metrics_df['comment_count'] = image_metrics_df['comment_count']*image_metrics_df['image_weight']\n",
    "# image_metrics_df['like_count'] = image_metrics_df['like_count']*image_metrics_df['image_weight']"
   ]
  },
  {
   "cell_type": "code",
   "execution_count": null,
   "metadata": {
    "collapsed": true
   },
   "outputs": [],
   "source": []
  },
  {
   "cell_type": "code",
   "execution_count": 52,
   "metadata": {},
   "outputs": [
    {
     "data": {
      "text/html": [
       "<div>\n",
       "<style>\n",
       "    .dataframe thead tr:only-child th {\n",
       "        text-align: right;\n",
       "    }\n",
       "\n",
       "    .dataframe thead th {\n",
       "        text-align: left;\n",
       "    }\n",
       "\n",
       "    .dataframe tbody tr th {\n",
       "        vertical-align: top;\n",
       "    }\n",
       "</style>\n",
       "<table border=\"1\" class=\"dataframe\">\n",
       "  <thead>\n",
       "    <tr style=\"text-align: right;\">\n",
       "      <th></th>\n",
       "      <th>user_followed_by</th>\n",
       "      <th>PERMA</th>\n",
       "      <th>comment_count</th>\n",
       "      <th>like_count</th>\n",
       "      <th>user_id</th>\n",
       "      <th>image_filter</th>\n",
       "      <th>start_q</th>\n",
       "      <th>end_q</th>\n",
       "      <th>image_posted_time</th>\n",
       "      <th>image_weight</th>\n",
       "    </tr>\n",
       "  </thead>\n",
       "  <tbody>\n",
       "    <tr>\n",
       "      <th>1373407612938533591_53918317</th>\n",
       "      <td>100.0</td>\n",
       "      <td>5.000000</td>\n",
       "      <td>0.0</td>\n",
       "      <td>4.0</td>\n",
       "      <td>53918317.0</td>\n",
       "      <td>Moon</td>\n",
       "      <td>2016-12-05 14:05:13</td>\n",
       "      <td>2016-12-05 14:06:38</td>\n",
       "      <td>2016-10-31 19:42:47</td>\n",
       "      <td>0.622222</td>\n",
       "    </tr>\n",
       "    <tr>\n",
       "      <th>1372871586851626025_53918317</th>\n",
       "      <td>100.0</td>\n",
       "      <td>5.000000</td>\n",
       "      <td>0.0</td>\n",
       "      <td>4.0</td>\n",
       "      <td>53918317.0</td>\n",
       "      <td>Mayfair</td>\n",
       "      <td>2016-12-05 14:05:13</td>\n",
       "      <td>2016-12-05 14:06:38</td>\n",
       "      <td>2016-10-31 01:57:48</td>\n",
       "      <td>0.611111</td>\n",
       "    </tr>\n",
       "    <tr>\n",
       "      <th>1373589994983539906_53918317</th>\n",
       "      <td>100.0</td>\n",
       "      <td>5.000000</td>\n",
       "      <td>3.0</td>\n",
       "      <td>15.0</td>\n",
       "      <td>53918317.0</td>\n",
       "      <td>Lark</td>\n",
       "      <td>2016-12-05 14:05:13</td>\n",
       "      <td>2016-12-05 14:06:38</td>\n",
       "      <td>2016-11-01 01:45:09</td>\n",
       "      <td>0.622222</td>\n",
       "    </tr>\n",
       "    <tr>\n",
       "      <th>1493013377612710198_11520833</th>\n",
       "      <td>201.0</td>\n",
       "      <td>6.681818</td>\n",
       "      <td>2.0</td>\n",
       "      <td>21.0</td>\n",
       "      <td>11520833.0</td>\n",
       "      <td>Sierra</td>\n",
       "      <td>2016-12-05 14:08:47</td>\n",
       "      <td>2016-12-05 14:10:57</td>\n",
       "      <td>2017-04-14 20:18:05</td>\n",
       "      <td>0.000000</td>\n",
       "    </tr>\n",
       "    <tr>\n",
       "      <th>1535098790149923516_287562303</th>\n",
       "      <td>456.0</td>\n",
       "      <td>7.136364</td>\n",
       "      <td>1.0</td>\n",
       "      <td>120.0</td>\n",
       "      <td>287562303.0</td>\n",
       "      <td>Rise</td>\n",
       "      <td>2016-12-05 14:30:51</td>\n",
       "      <td>2016-12-05 14:32:07</td>\n",
       "      <td>2017-06-11 21:54:17</td>\n",
       "      <td>0.000000</td>\n",
       "    </tr>\n",
       "  </tbody>\n",
       "</table>\n",
       "</div>"
      ],
      "text/plain": [
       "                               user_followed_by     PERMA  comment_count  \\\n",
       "1373407612938533591_53918317              100.0  5.000000            0.0   \n",
       "1372871586851626025_53918317              100.0  5.000000            0.0   \n",
       "1373589994983539906_53918317              100.0  5.000000            3.0   \n",
       "1493013377612710198_11520833              201.0  6.681818            2.0   \n",
       "1535098790149923516_287562303             456.0  7.136364            1.0   \n",
       "\n",
       "                               like_count      user_id image_filter  \\\n",
       "1373407612938533591_53918317          4.0   53918317.0         Moon   \n",
       "1372871586851626025_53918317          4.0   53918317.0      Mayfair   \n",
       "1373589994983539906_53918317         15.0   53918317.0         Lark   \n",
       "1493013377612710198_11520833         21.0   11520833.0       Sierra   \n",
       "1535098790149923516_287562303       120.0  287562303.0         Rise   \n",
       "\n",
       "                                          start_q               end_q  \\\n",
       "1373407612938533591_53918317  2016-12-05 14:05:13 2016-12-05 14:06:38   \n",
       "1372871586851626025_53918317  2016-12-05 14:05:13 2016-12-05 14:06:38   \n",
       "1373589994983539906_53918317  2016-12-05 14:05:13 2016-12-05 14:06:38   \n",
       "1493013377612710198_11520833  2016-12-05 14:08:47 2016-12-05 14:10:57   \n",
       "1535098790149923516_287562303 2016-12-05 14:30:51 2016-12-05 14:32:07   \n",
       "\n",
       "                                image_posted_time  image_weight  \n",
       "1373407612938533591_53918317  2016-10-31 19:42:47      0.622222  \n",
       "1372871586851626025_53918317  2016-10-31 01:57:48      0.611111  \n",
       "1373589994983539906_53918317  2016-11-01 01:45:09      0.622222  \n",
       "1493013377612710198_11520833  2017-04-14 20:18:05      0.000000  \n",
       "1535098790149923516_287562303 2017-06-11 21:54:17      0.000000  "
      ]
     },
     "execution_count": 52,
     "metadata": {},
     "output_type": "execute_result"
    }
   ],
   "source": [
    "image_metrics_df.head()"
   ]
  },
  {
   "cell_type": "code",
   "execution_count": 53,
   "metadata": {},
   "outputs": [
    {
     "name": "stdout",
     "output_type": "stream",
     "text": [
      "(82, 5)\n"
     ]
    },
    {
     "data": {
      "text/html": [
       "<div>\n",
       "<style>\n",
       "    .dataframe thead tr:only-child th {\n",
       "        text-align: right;\n",
       "    }\n",
       "\n",
       "    .dataframe thead th {\n",
       "        text-align: left;\n",
       "    }\n",
       "\n",
       "    .dataframe tbody tr th {\n",
       "        vertical-align: top;\n",
       "    }\n",
       "</style>\n",
       "<table border=\"1\" class=\"dataframe\">\n",
       "  <thead>\n",
       "    <tr style=\"text-align: right;\">\n",
       "      <th></th>\n",
       "      <th>user_followed_by</th>\n",
       "      <th>PERMA</th>\n",
       "      <th>comment_count</th>\n",
       "      <th>like_count</th>\n",
       "      <th>image_weight</th>\n",
       "    </tr>\n",
       "    <tr>\n",
       "      <th>user_id</th>\n",
       "      <th></th>\n",
       "      <th></th>\n",
       "      <th></th>\n",
       "      <th></th>\n",
       "      <th></th>\n",
       "    </tr>\n",
       "  </thead>\n",
       "  <tbody>\n",
       "    <tr>\n",
       "      <th>1619510.0</th>\n",
       "      <td>364.0</td>\n",
       "      <td>4.181818</td>\n",
       "      <td>1.4</td>\n",
       "      <td>17.800000</td>\n",
       "      <td>0.463333</td>\n",
       "    </tr>\n",
       "    <tr>\n",
       "      <th>2829661.0</th>\n",
       "      <td>198.0</td>\n",
       "      <td>7.454545</td>\n",
       "      <td>2.0</td>\n",
       "      <td>9.000000</td>\n",
       "      <td>0.000000</td>\n",
       "    </tr>\n",
       "    <tr>\n",
       "      <th>3988856.0</th>\n",
       "      <td>732.0</td>\n",
       "      <td>7.818182</td>\n",
       "      <td>2.0</td>\n",
       "      <td>29.500000</td>\n",
       "      <td>0.105556</td>\n",
       "    </tr>\n",
       "    <tr>\n",
       "      <th>6734387.0</th>\n",
       "      <td>1047.0</td>\n",
       "      <td>6.181818</td>\n",
       "      <td>4.5</td>\n",
       "      <td>220.375000</td>\n",
       "      <td>0.454167</td>\n",
       "    </tr>\n",
       "    <tr>\n",
       "      <th>7410944.0</th>\n",
       "      <td>146.0</td>\n",
       "      <td>7.590909</td>\n",
       "      <td>0.3</td>\n",
       "      <td>15.833333</td>\n",
       "      <td>0.241111</td>\n",
       "    </tr>\n",
       "  </tbody>\n",
       "</table>\n",
       "</div>"
      ],
      "text/plain": [
       "           user_followed_by     PERMA  comment_count  like_count  image_weight\n",
       "user_id                                                                       \n",
       "1619510.0             364.0  4.181818            1.4   17.800000      0.463333\n",
       "2829661.0             198.0  7.454545            2.0    9.000000      0.000000\n",
       "3988856.0             732.0  7.818182            2.0   29.500000      0.105556\n",
       "6734387.0            1047.0  6.181818            4.5  220.375000      0.454167\n",
       "7410944.0             146.0  7.590909            0.3   15.833333      0.241111"
      ]
     },
     "execution_count": 53,
     "metadata": {},
     "output_type": "execute_result"
    }
   ],
   "source": [
    "#GROUPBY users\n",
    "\n",
    "avg_weighted_metrics  = image_metrics_df.groupby('user_id').mean()\n",
    "\n",
    "print avg_weighted_metrics.shape\n",
    "avg_weighted_metrics.head()"
   ]
  },
  {
   "cell_type": "code",
   "execution_count": 54,
   "metadata": {
    "collapsed": true
   },
   "outputs": [],
   "source": [
    "# import pickle\n",
    "# with open ('avg_weighted_metrics.pickle','wb') as f:\n",
    "#     pickle.dump(avg_weighted_metrics,f)"
   ]
  },
  {
   "cell_type": "markdown",
   "metadata": {},
   "source": [
    "# LOAD Pickle"
   ]
  },
  {
   "cell_type": "code",
   "execution_count": 55,
   "metadata": {
    "collapsed": true
   },
   "outputs": [],
   "source": [
    "# import pickle\n",
    "\n",
    "# with open ('avg_weighted_metrics.pickle', 'rb') as f:\n",
    "#     avg_weighted_metrics = pickle.load(f)"
   ]
  },
  {
   "cell_type": "code",
   "execution_count": 56,
   "metadata": {},
   "outputs": [
    {
     "data": {
      "text/html": [
       "<div>\n",
       "<style>\n",
       "    .dataframe thead tr:only-child th {\n",
       "        text-align: right;\n",
       "    }\n",
       "\n",
       "    .dataframe thead th {\n",
       "        text-align: left;\n",
       "    }\n",
       "\n",
       "    .dataframe tbody tr th {\n",
       "        vertical-align: top;\n",
       "    }\n",
       "</style>\n",
       "<table border=\"1\" class=\"dataframe\">\n",
       "  <thead>\n",
       "    <tr style=\"text-align: right;\">\n",
       "      <th></th>\n",
       "      <th>user_followed_by</th>\n",
       "      <th>PERMA</th>\n",
       "      <th>comment_count</th>\n",
       "      <th>like_count</th>\n",
       "      <th>image_weight</th>\n",
       "    </tr>\n",
       "    <tr>\n",
       "      <th>user_id</th>\n",
       "      <th></th>\n",
       "      <th></th>\n",
       "      <th></th>\n",
       "      <th></th>\n",
       "      <th></th>\n",
       "    </tr>\n",
       "  </thead>\n",
       "  <tbody>\n",
       "    <tr>\n",
       "      <th>1619510.0</th>\n",
       "      <td>364.0</td>\n",
       "      <td>4.181818</td>\n",
       "      <td>1.4</td>\n",
       "      <td>17.800000</td>\n",
       "      <td>0.463333</td>\n",
       "    </tr>\n",
       "    <tr>\n",
       "      <th>2829661.0</th>\n",
       "      <td>198.0</td>\n",
       "      <td>7.454545</td>\n",
       "      <td>2.0</td>\n",
       "      <td>9.000000</td>\n",
       "      <td>0.000000</td>\n",
       "    </tr>\n",
       "    <tr>\n",
       "      <th>3988856.0</th>\n",
       "      <td>732.0</td>\n",
       "      <td>7.818182</td>\n",
       "      <td>2.0</td>\n",
       "      <td>29.500000</td>\n",
       "      <td>0.105556</td>\n",
       "    </tr>\n",
       "    <tr>\n",
       "      <th>6734387.0</th>\n",
       "      <td>1047.0</td>\n",
       "      <td>6.181818</td>\n",
       "      <td>4.5</td>\n",
       "      <td>220.375000</td>\n",
       "      <td>0.454167</td>\n",
       "    </tr>\n",
       "    <tr>\n",
       "      <th>7410944.0</th>\n",
       "      <td>146.0</td>\n",
       "      <td>7.590909</td>\n",
       "      <td>0.3</td>\n",
       "      <td>15.833333</td>\n",
       "      <td>0.241111</td>\n",
       "    </tr>\n",
       "  </tbody>\n",
       "</table>\n",
       "</div>"
      ],
      "text/plain": [
       "           user_followed_by     PERMA  comment_count  like_count  image_weight\n",
       "user_id                                                                       \n",
       "1619510.0             364.0  4.181818            1.4   17.800000      0.463333\n",
       "2829661.0             198.0  7.454545            2.0    9.000000      0.000000\n",
       "3988856.0             732.0  7.818182            2.0   29.500000      0.105556\n",
       "6734387.0            1047.0  6.181818            4.5  220.375000      0.454167\n",
       "7410944.0             146.0  7.590909            0.3   15.833333      0.241111"
      ]
     },
     "execution_count": 56,
     "metadata": {},
     "output_type": "execute_result"
    }
   ],
   "source": [
    "avg_weighted_metrics.head()"
   ]
  },
  {
   "cell_type": "code",
   "execution_count": 57,
   "metadata": {
    "collapsed": true
   },
   "outputs": [],
   "source": [
    "def subtrack_features(main_list, subtr_features):\n",
    "    \n",
    "    new = [item for item in main_list if item not in subtr_features]\n",
    "    \n",
    "    return new\n",
    "\n",
    "def prepare_set_statmodel(features):\n",
    "    \n",
    "    return 'PERMA~'+ '+'.join(features)\n",
    "\n",
    "\n",
    "def regression_stats(formula,data):\n",
    "    # create a fitted model with all three features\n",
    "    lm = smf.ols(formula= formula, data=data).fit()\n",
    "    print lm.params\n",
    "    return lm\n",
    "    "
   ]
  },
  {
   "cell_type": "code",
   "execution_count": 58,
   "metadata": {},
   "outputs": [
    {
     "name": "stdout",
     "output_type": "stream",
     "text": [
      "['user_followed_by', 'comment_count', 'like_count']\n",
      "Intercept           6.595524\n",
      "user_followed_by   -0.000373\n",
      "comment_count      -0.047641\n",
      "like_count          0.005751\n",
      "dtype: float64\n"
     ]
    },
    {
     "data": {
      "text/html": [
       "<table class=\"simpletable\">\n",
       "<caption>OLS Regression Results</caption>\n",
       "<tr>\n",
       "  <th>Dep. Variable:</th>          <td>PERMA</td>      <th>  R-squared:         </th> <td>   0.039</td>\n",
       "</tr>\n",
       "<tr>\n",
       "  <th>Model:</th>                   <td>OLS</td>       <th>  Adj. R-squared:    </th> <td>   0.036</td>\n",
       "</tr>\n",
       "<tr>\n",
       "  <th>Method:</th>             <td>Least Squares</td>  <th>  F-statistic:       </th> <td>   14.17</td>\n",
       "</tr>\n",
       "<tr>\n",
       "  <th>Date:</th>             <td>Thu, 19 Oct 2017</td> <th>  Prob (F-statistic):</th> <td>4.65e-09</td>\n",
       "</tr>\n",
       "<tr>\n",
       "  <th>Time:</th>                 <td>18:59:01</td>     <th>  Log-Likelihood:    </th> <td> -1466.8</td>\n",
       "</tr>\n",
       "<tr>\n",
       "  <th>No. Observations:</th>      <td>  1054</td>      <th>  AIC:               </th> <td>   2942.</td>\n",
       "</tr>\n",
       "<tr>\n",
       "  <th>Df Residuals:</th>          <td>  1050</td>      <th>  BIC:               </th> <td>   2961.</td>\n",
       "</tr>\n",
       "<tr>\n",
       "  <th>Df Model:</th>              <td>     3</td>      <th>                     </th>     <td> </td>   \n",
       "</tr>\n",
       "<tr>\n",
       "  <th>Covariance Type:</th>      <td>nonrobust</td>    <th>                     </th>     <td> </td>   \n",
       "</tr>\n",
       "</table>\n",
       "<table class=\"simpletable\">\n",
       "<tr>\n",
       "          <td></td>            <th>coef</th>     <th>std err</th>      <th>t</th>      <th>P>|t|</th>  <th>[0.025</th>    <th>0.975]</th>  \n",
       "</tr>\n",
       "<tr>\n",
       "  <th>Intercept</th>        <td>    6.5955</td> <td>    0.044</td> <td>  148.999</td> <td> 0.000</td> <td>    6.509</td> <td>    6.682</td>\n",
       "</tr>\n",
       "<tr>\n",
       "  <th>user_followed_by</th> <td>   -0.0004</td> <td> 6.73e-05</td> <td>   -5.538</td> <td> 0.000</td> <td>   -0.001</td> <td>   -0.000</td>\n",
       "</tr>\n",
       "<tr>\n",
       "  <th>comment_count</th>    <td>   -0.0476</td> <td>    0.017</td> <td>   -2.742</td> <td> 0.006</td> <td>   -0.082</td> <td>   -0.014</td>\n",
       "</tr>\n",
       "<tr>\n",
       "  <th>like_count</th>       <td>    0.0058</td> <td>    0.001</td> <td>    5.485</td> <td> 0.000</td> <td>    0.004</td> <td>    0.008</td>\n",
       "</tr>\n",
       "</table>\n",
       "<table class=\"simpletable\">\n",
       "<tr>\n",
       "  <th>Omnibus:</th>       <td>13.997</td> <th>  Durbin-Watson:     </th> <td>   0.172</td>\n",
       "</tr>\n",
       "<tr>\n",
       "  <th>Prob(Omnibus):</th> <td> 0.001</td> <th>  Jarque-Bera (JB):  </th> <td>  14.391</td>\n",
       "</tr>\n",
       "<tr>\n",
       "  <th>Skew:</th>          <td>-0.280</td> <th>  Prob(JB):          </th> <td>0.000750</td>\n",
       "</tr>\n",
       "<tr>\n",
       "  <th>Kurtosis:</th>      <td> 2.881</td> <th>  Cond. No.          </th> <td>1.06e+03</td>\n",
       "</tr>\n",
       "</table>"
      ],
      "text/plain": [
       "<class 'statsmodels.iolib.summary.Summary'>\n",
       "\"\"\"\n",
       "                            OLS Regression Results                            \n",
       "==============================================================================\n",
       "Dep. Variable:                  PERMA   R-squared:                       0.039\n",
       "Model:                            OLS   Adj. R-squared:                  0.036\n",
       "Method:                 Least Squares   F-statistic:                     14.17\n",
       "Date:                Thu, 19 Oct 2017   Prob (F-statistic):           4.65e-09\n",
       "Time:                        18:59:01   Log-Likelihood:                -1466.8\n",
       "No. Observations:                1054   AIC:                             2942.\n",
       "Df Residuals:                    1050   BIC:                             2961.\n",
       "Df Model:                           3                                         \n",
       "Covariance Type:            nonrobust                                         \n",
       "====================================================================================\n",
       "                       coef    std err          t      P>|t|      [0.025      0.975]\n",
       "------------------------------------------------------------------------------------\n",
       "Intercept            6.5955      0.044    148.999      0.000       6.509       6.682\n",
       "user_followed_by    -0.0004   6.73e-05     -5.538      0.000      -0.001      -0.000\n",
       "comment_count       -0.0476      0.017     -2.742      0.006      -0.082      -0.014\n",
       "like_count           0.0058      0.001      5.485      0.000       0.004       0.008\n",
       "==============================================================================\n",
       "Omnibus:                       13.997   Durbin-Watson:                   0.172\n",
       "Prob(Omnibus):                  0.001   Jarque-Bera (JB):               14.391\n",
       "Skew:                          -0.280   Prob(JB):                     0.000750\n",
       "Kurtosis:                       2.881   Cond. No.                     1.06e+03\n",
       "==============================================================================\n",
       "\n",
       "Warnings:\n",
       "[1] Standard Errors assume that the covariance matrix of the errors is correctly specified.\n",
       "[2] The condition number is large, 1.06e+03. This might indicate that there are\n",
       "strong multicollinearity or other numerical problems.\n",
       "\"\"\""
      ]
     },
     "execution_count": 58,
     "metadata": {},
     "output_type": "execute_result"
    }
   ],
   "source": [
    "#Add the features of the metrics to the main features list\n",
    "features = ['user_followed_by','comment_count','like_count']\n",
    "print features\n",
    "\n",
    "lm1_model = regression_stats(prepare_set_statmodel(features),image_metrics_df)\n",
    "lm1_model.summary() "
   ]
  },
  {
   "cell_type": "code",
   "execution_count": 59,
   "metadata": {},
   "outputs": [
    {
     "data": {
      "text/plain": [
       "<matplotlib.axes._subplots.AxesSubplot at 0x7f44eb0c8710>"
      ]
     },
     "execution_count": 59,
     "metadata": {},
     "output_type": "execute_result"
    },
    {
     "data": {
      "image/png": "[encoded data removed]",
      "text/plain": [
       "<matplotlib.figure.Figure at 0x7f44eaec3e50>"
      ]
     },
     "metadata": {},
     "output_type": "display_data"
    }
   ],
   "source": [
    "#correlation matrix\n",
    "correlation_matrix = avg_weighted_metrics.corr()\n",
    "\n",
    "#PLOT THE CORRELATIONS TO Seaborn\n",
    "\n",
    "mask = np.zeros_like(correlation_matrix, dtype=np.bool)\n",
    "mask[np.triu_indices_from(mask)] = True\n",
    "\n",
    "# Set up the matplotlib figure|\n",
    "f, ax = plt.subplots(figsize=(11, 9))\n",
    "\n",
    "# Generate a custom diverging colormap\n",
    "cmap = sns.diverging_palette(220, 10, as_cmap=True)\n",
    "\n",
    "# Draw the heatmap with the mask and correct aspect ratio\n",
    "sns.heatmap(correlation_matrix, mask=mask, cmap=cmap, vmax=.3, center=0,\n",
    "            square=True, linewidths=.5, cbar_kws={\"shrink\": .5})"
   ]
  },
  {
   "cell_type": "code",
   "execution_count": 60,
   "metadata": {},
   "outputs": [
    {
     "data": {
      "text/plain": [
       "<matplotlib.axes._subplots.AxesSubplot at 0x7f44eb158c10>"
      ]
     },
     "execution_count": 60,
     "metadata": {},
     "output_type": "execute_result"
    },
    {
     "data": {
      "image/png": "[encoded data removed]",
      "text/plain": [
       "<matplotlib.figure.Figure at 0x7f44e4f028d0>"
      ]
     },
     "metadata": {},
     "output_type": "display_data"
    }
   ],
   "source": [
    "#features = ['user_followed_by','comment_count','like_count']\n",
    "sns.regplot('comment_count','PERMA',data=avg_metrics)"
   ]
  },
  {
   "cell_type": "code",
   "execution_count": null,
   "metadata": {},
   "outputs": [
    {
     "data": {
      "text/plain": [
       "<matplotlib.axes._subplots.AxesSubplot at 0x7f44eb29cd10>"
      ]
     },
     "execution_count": 61,
     "metadata": {},
     "output_type": "execute_result"
    },
    {
     "data": {
      "image/png": "[encoded data removed]",
      "text/plain": [
       "<matplotlib.figure.Figure at 0x7f44eb019210>"
      ]
     },
     "metadata": {},
     "output_type": "display_data"
    }
   ],
   "source": [
    "sns.regplot('like_count','PERMA',data=avg_metrics)"
   ]
  },
  {
   "cell_type": "code",
   "execution_count": null,
   "metadata": {
    "collapsed": true
   },
   "outputs": [],
   "source": []
  }
 ],
 "metadata": {
  "kernelspec": {
   "display_name": "Python [conda env:tweets_USA]",
   "language": "python",
   "name": "conda-env-tweets_USA-py"
  },
  "language_info": {
   "codemirror_mode": {
    "name": "ipython",
    "version": 2
   },
   "file_extension": ".py",
   "mimetype": "text/x-python",
   "name": "python",
   "nbconvert_exporter": "python",
   "pygments_lexer": "ipython2",
   "version": "2.7.13"
  }
 },
 "nbformat": 4,
 "nbformat_minor": 2
}
