{
 "cells": [
  {
   "cell_type": "code",
   "execution_count": 1,
   "metadata": {
    "collapsed": true
   },
   "outputs": [],
   "source": [
    "import pickle"
   ]
  },
  {
   "cell_type": "code",
   "execution_count": null,
   "metadata": {
    "collapsed": true
   },
   "outputs": [],
   "source": [
    "with open\n",
    "pickle.load()"
   ]
  },
  {
   "cell_type": "code",
   "execution_count": null,
   "metadata": {
    "collapsed": true
   },
   "outputs": [],
   "source": [
    "#generate a new df containing the classes corresponding to Butchniks emotions\n",
    "classes = anp_df.emotion_label.unique()\n",
    "from sklearn.preprocessing import label_binarize\n",
    "anp2 = pd.DataFrame(label_binarize(anp_df.emotion_label, classes=classes),columns=classes)\n",
    "#put the value of emotion score in the corresponding row of the image\n",
    "anp2 = anp2.multiply(anp_df.emotion_score,axis=0)"
   ]
  },
  {
   "cell_type": "code",
   "execution_count": null,
   "metadata": {
    "collapsed": true
   },
   "outputs": [],
   "source": [
    "anp2.head()"
   ]
  },
  {
   "cell_type": "code",
   "execution_count": null,
   "metadata": {
    "collapsed": true
   },
   "outputs": [],
   "source": [
    "#concatenate anp2 with image id and ANP sentiment\n",
    "anp_final = pd.concat([anp_df[['image_id','anp_sentiment']], anp2], axis=1)\n",
    "anp_final.head()"
   ]
  }
 ],
 "metadata": {
  "kernelspec": {
   "display_name": "Python [conda env:marketing]",
   "language": "python",
   "name": "conda-env-marketing-py"
  },
  "language_info": {
   "codemirror_mode": {
    "name": "ipython",
    "version": 2
   },
   "file_extension": ".py",
   "mimetype": "text/x-python",
   "name": "python",
   "nbconvert_exporter": "python",
   "pygments_lexer": "ipython2",
   "version": "2.7.13"
  }
 },
 "nbformat": 4,
 "nbformat_minor": 2
}
